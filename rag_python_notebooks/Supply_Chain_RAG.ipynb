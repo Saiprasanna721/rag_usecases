{
  "cells": [
    {
      "cell_type": "markdown",
      "metadata": {
        "id": "eeJAM0f0I60j"
      },
      "source": [
        "# Interactive CSV Query System\n"
      ]
    },
    {
      "cell_type": "markdown",
      "source": [
        "Aim : To create a query system for the Antiretroviral shipment details for the specific countries\n"
      ],
      "metadata": {
        "id": "nOrzkzWeuII9"
      }
    },
    {
      "cell_type": "markdown",
      "metadata": {
        "id": "mOXJWewzsDCy"
      },
      "source": [
        "# #Query Pipeline over Pandas DataFrames\n"
      ]
    },
    {
      "cell_type": "markdown",
      "source": [
        "1) Installing necessary libraries"
      ],
      "metadata": {
        "id": "m0yHQfoUvcUM"
      }
    },
    {
      "cell_type": "code",
      "execution_count": null,
      "metadata": {
        "colab": {
          "base_uri": "https://localhost:8080/"
        },
        "id": "khOQefjGnLYE",
        "outputId": "82fdd828-633f-4f3c-e314-a3e092341420"
      },
      "outputs": [
        {
          "output_type": "stream",
          "name": "stdout",
          "text": [
            "Requirement already satisfied: llama-index==0.9.45 in /usr/local/lib/python3.10/dist-packages (0.9.45)\n",
            "Requirement already satisfied: SQLAlchemy[asyncio]>=1.4.49 in /usr/local/lib/python3.10/dist-packages (from llama-index==0.9.45) (2.0.29)\n",
            "Requirement already satisfied: aiohttp<4.0.0,>=3.8.6 in /usr/local/lib/python3.10/dist-packages (from llama-index==0.9.45) (3.9.3)\n",
            "Requirement already satisfied: dataclasses-json in /usr/local/lib/python3.10/dist-packages (from llama-index==0.9.45) (0.6.4)\n",
            "Requirement already satisfied: deprecated>=1.2.9.3 in /usr/local/lib/python3.10/dist-packages (from llama-index==0.9.45) (1.2.14)\n",
            "Requirement already satisfied: dirtyjson<2.0.0,>=1.0.8 in /usr/local/lib/python3.10/dist-packages (from llama-index==0.9.45) (1.0.8)\n",
            "Requirement already satisfied: fsspec>=2023.5.0 in /usr/local/lib/python3.10/dist-packages (from llama-index==0.9.45) (2023.6.0)\n",
            "Requirement already satisfied: httpx in /usr/local/lib/python3.10/dist-packages (from llama-index==0.9.45) (0.27.0)\n",
            "Requirement already satisfied: nest-asyncio<2.0.0,>=1.5.8 in /usr/local/lib/python3.10/dist-packages (from llama-index==0.9.45) (1.6.0)\n",
            "Requirement already satisfied: networkx>=3.0 in /usr/local/lib/python3.10/dist-packages (from llama-index==0.9.45) (3.2.1)\n",
            "Requirement already satisfied: nltk<4.0.0,>=3.8.1 in /usr/local/lib/python3.10/dist-packages (from llama-index==0.9.45) (3.8.1)\n",
            "Requirement already satisfied: numpy in /usr/local/lib/python3.10/dist-packages (from llama-index==0.9.45) (1.25.2)\n",
            "Requirement already satisfied: openai>=1.1.0 in /usr/local/lib/python3.10/dist-packages (from llama-index==0.9.45) (1.14.3)\n",
            "Requirement already satisfied: pandas in /usr/local/lib/python3.10/dist-packages (from llama-index==0.9.45) (1.5.3)\n",
            "Requirement already satisfied: requests>=2.31.0 in /usr/local/lib/python3.10/dist-packages (from llama-index==0.9.45) (2.31.0)\n",
            "Requirement already satisfied: tenacity<9.0.0,>=8.2.0 in /usr/local/lib/python3.10/dist-packages (from llama-index==0.9.45) (8.2.3)\n",
            "Requirement already satisfied: tiktoken>=0.3.3 in /usr/local/lib/python3.10/dist-packages (from llama-index==0.9.45) (0.6.0)\n",
            "Requirement already satisfied: typing-extensions>=4.5.0 in /usr/local/lib/python3.10/dist-packages (from llama-index==0.9.45) (4.10.0)\n",
            "Requirement already satisfied: typing-inspect>=0.8.0 in /usr/local/lib/python3.10/dist-packages (from llama-index==0.9.45) (0.9.0)\n",
            "Requirement already satisfied: aiosignal>=1.1.2 in /usr/local/lib/python3.10/dist-packages (from aiohttp<4.0.0,>=3.8.6->llama-index==0.9.45) (1.3.1)\n",
            "Requirement already satisfied: attrs>=17.3.0 in /usr/local/lib/python3.10/dist-packages (from aiohttp<4.0.0,>=3.8.6->llama-index==0.9.45) (23.2.0)\n",
            "Requirement already satisfied: frozenlist>=1.1.1 in /usr/local/lib/python3.10/dist-packages (from aiohttp<4.0.0,>=3.8.6->llama-index==0.9.45) (1.4.1)\n",
            "Requirement already satisfied: multidict<7.0,>=4.5 in /usr/local/lib/python3.10/dist-packages (from aiohttp<4.0.0,>=3.8.6->llama-index==0.9.45) (6.0.5)\n",
            "Requirement already satisfied: yarl<2.0,>=1.0 in /usr/local/lib/python3.10/dist-packages (from aiohttp<4.0.0,>=3.8.6->llama-index==0.9.45) (1.9.4)\n",
            "Requirement already satisfied: async-timeout<5.0,>=4.0 in /usr/local/lib/python3.10/dist-packages (from aiohttp<4.0.0,>=3.8.6->llama-index==0.9.45) (4.0.3)\n",
            "Requirement already satisfied: wrapt<2,>=1.10 in /usr/local/lib/python3.10/dist-packages (from deprecated>=1.2.9.3->llama-index==0.9.45) (1.14.1)\n",
            "Requirement already satisfied: click in /usr/local/lib/python3.10/dist-packages (from nltk<4.0.0,>=3.8.1->llama-index==0.9.45) (8.1.7)\n",
            "Requirement already satisfied: joblib in /usr/local/lib/python3.10/dist-packages (from nltk<4.0.0,>=3.8.1->llama-index==0.9.45) (1.3.2)\n",
            "Requirement already satisfied: regex>=2021.8.3 in /usr/local/lib/python3.10/dist-packages (from nltk<4.0.0,>=3.8.1->llama-index==0.9.45) (2023.12.25)\n",
            "Requirement already satisfied: tqdm in /usr/local/lib/python3.10/dist-packages (from nltk<4.0.0,>=3.8.1->llama-index==0.9.45) (4.66.2)\n",
            "Requirement already satisfied: anyio<5,>=3.5.0 in /usr/local/lib/python3.10/dist-packages (from openai>=1.1.0->llama-index==0.9.45) (3.7.1)\n",
            "Requirement already satisfied: distro<2,>=1.7.0 in /usr/lib/python3/dist-packages (from openai>=1.1.0->llama-index==0.9.45) (1.7.0)\n",
            "Requirement already satisfied: pydantic<3,>=1.9.0 in /usr/local/lib/python3.10/dist-packages (from openai>=1.1.0->llama-index==0.9.45) (2.6.4)\n",
            "Requirement already satisfied: sniffio in /usr/local/lib/python3.10/dist-packages (from openai>=1.1.0->llama-index==0.9.45) (1.3.1)\n",
            "Requirement already satisfied: certifi in /usr/local/lib/python3.10/dist-packages (from httpx->llama-index==0.9.45) (2024.2.2)\n",
            "Requirement already satisfied: httpcore==1.* in /usr/local/lib/python3.10/dist-packages (from httpx->llama-index==0.9.45) (1.0.5)\n",
            "Requirement already satisfied: idna in /usr/local/lib/python3.10/dist-packages (from httpx->llama-index==0.9.45) (3.6)\n",
            "Requirement already satisfied: h11<0.15,>=0.13 in /usr/local/lib/python3.10/dist-packages (from httpcore==1.*->httpx->llama-index==0.9.45) (0.14.0)\n",
            "Requirement already satisfied: charset-normalizer<4,>=2 in /usr/local/lib/python3.10/dist-packages (from requests>=2.31.0->llama-index==0.9.45) (3.3.2)\n",
            "Requirement already satisfied: urllib3<3,>=1.21.1 in /usr/local/lib/python3.10/dist-packages (from requests>=2.31.0->llama-index==0.9.45) (2.0.7)\n",
            "Requirement already satisfied: greenlet!=0.4.17 in /usr/local/lib/python3.10/dist-packages (from SQLAlchemy[asyncio]>=1.4.49->llama-index==0.9.45) (3.0.3)\n",
            "Requirement already satisfied: mypy-extensions>=0.3.0 in /usr/local/lib/python3.10/dist-packages (from typing-inspect>=0.8.0->llama-index==0.9.45) (1.0.0)\n",
            "Requirement already satisfied: marshmallow<4.0.0,>=3.18.0 in /usr/local/lib/python3.10/dist-packages (from dataclasses-json->llama-index==0.9.45) (3.21.1)\n",
            "Requirement already satisfied: python-dateutil>=2.8.1 in /usr/local/lib/python3.10/dist-packages (from pandas->llama-index==0.9.45) (2.8.2)\n",
            "Requirement already satisfied: pytz>=2020.1 in /usr/local/lib/python3.10/dist-packages (from pandas->llama-index==0.9.45) (2023.4)\n",
            "Requirement already satisfied: exceptiongroup in /usr/local/lib/python3.10/dist-packages (from anyio<5,>=3.5.0->openai>=1.1.0->llama-index==0.9.45) (1.2.0)\n",
            "Requirement already satisfied: packaging>=17.0 in /usr/local/lib/python3.10/dist-packages (from marshmallow<4.0.0,>=3.18.0->dataclasses-json->llama-index==0.9.45) (24.0)\n",
            "Requirement already satisfied: annotated-types>=0.4.0 in /usr/local/lib/python3.10/dist-packages (from pydantic<3,>=1.9.0->openai>=1.1.0->llama-index==0.9.45) (0.6.0)\n",
            "Requirement already satisfied: pydantic-core==2.16.3 in /usr/local/lib/python3.10/dist-packages (from pydantic<3,>=1.9.0->openai>=1.1.0->llama-index==0.9.45) (2.16.3)\n",
            "Requirement already satisfied: six>=1.5 in /usr/local/lib/python3.10/dist-packages (from python-dateutil>=2.8.1->pandas->llama-index==0.9.45) (1.16.0)\n"
          ]
        }
      ],
      "source": [
        "!pip install llama-index==0.9.45"
      ]
    },
    {
      "cell_type": "markdown",
      "source": [
        "2) Importing necessary libraries"
      ],
      "metadata": {
        "id": "mlSanKsQyA1L"
      }
    },
    {
      "cell_type": "code",
      "execution_count": null,
      "metadata": {
        "id": "r7GHqxcUnVJt"
      },
      "outputs": [],
      "source": [
        "from llama_index.query_pipeline import (\n",
        "    QueryPipeline as QP,\n",
        "    Link,\n",
        "    InputComponent,\n",
        ")\n",
        "from llama_index.query_engine.pandas import PandasInstructionParser\n",
        "from llama_index.llms import OpenAI\n",
        "from llama_index.prompts import PromptTemplate"
      ]
    },
    {
      "cell_type": "markdown",
      "source": [
        "\n",
        "3) This section used to securely prompt for and store OpenAI API key in environment variable.\n",
        "\n"
      ],
      "metadata": {
        "id": "Jk_3lHjUyD2Z"
      }
    },
    {
      "cell_type": "code",
      "execution_count": null,
      "metadata": {
        "colab": {
          "base_uri": "https://localhost:8080/"
        },
        "id": "VAuMRsFMn1qC",
        "outputId": "5a7e92f0-64ba-4caf-b320-80d2a867fb57"
      },
      "outputs": [
        {
          "name": "stdout",
          "output_type": "stream",
          "text": [
            "OpenAI API Key:··········\n"
          ]
        }
      ],
      "source": [
        "import os\n",
        "import getpass\n",
        "\n",
        "os.environ['OPENAI_API_KEY'] = getpass.getpass('OpenAI API Key:')"
      ]
    },
    {
      "cell_type": "markdown",
      "source": [
        "4) Read the CSV file \"shipmentdata.csv\" into a pandas DataFrame named 'df'\n"
      ],
      "metadata": {
        "id": "W5rCZDPJy7sV"
      }
    },
    {
      "cell_type": "code",
      "execution_count": null,
      "metadata": {
        "colab": {
          "base_uri": "https://localhost:8080/",
          "height": 826
        },
        "id": "yBeMTAcbn1lB",
        "outputId": "decfc2c7-1118-4b26-df3b-72a1e793715e"
      },
      "outputs": [
        {
          "data": {
            "application/vnd.google.colaboratory.intrinsic+json": {
              "type": "dataframe",
              "variable_name": "df"
            },
            "text/html": [
              "\n",
              "  <div id=\"df-81299115-7f81-4aa1-bea5-d3e45caa7327\" class=\"colab-df-container\">\n",
              "    <div>\n",
              "<style scoped>\n",
              "    .dataframe tbody tr th:only-of-type {\n",
              "        vertical-align: middle;\n",
              "    }\n",
              "\n",
              "    .dataframe tbody tr th {\n",
              "        vertical-align: top;\n",
              "    }\n",
              "\n",
              "    .dataframe thead th {\n",
              "        text-align: right;\n",
              "    }\n",
              "</style>\n",
              "<table border=\"1\" class=\"dataframe\">\n",
              "  <thead>\n",
              "    <tr style=\"text-align: right;\">\n",
              "      <th></th>\n",
              "      <th>ID</th>\n",
              "      <th>Project Code</th>\n",
              "      <th>PQ #</th>\n",
              "      <th>PO / SO #</th>\n",
              "      <th>ASN/DN #</th>\n",
              "      <th>Country</th>\n",
              "      <th>Managed By</th>\n",
              "      <th>Fulfill Via</th>\n",
              "      <th>Vendor INCO Term</th>\n",
              "      <th>Shipment Mode</th>\n",
              "      <th>...</th>\n",
              "      <th>Unit of Measure (Per Pack)</th>\n",
              "      <th>Line Item Quantity</th>\n",
              "      <th>Line Item Value</th>\n",
              "      <th>Pack Price</th>\n",
              "      <th>Unit Price</th>\n",
              "      <th>Manufacturing Site</th>\n",
              "      <th>First Line Designation</th>\n",
              "      <th>Weight (Kilograms)</th>\n",
              "      <th>Freight Cost (USD)</th>\n",
              "      <th>Line Item Insurance (USD)</th>\n",
              "    </tr>\n",
              "  </thead>\n",
              "  <tbody>\n",
              "    <tr>\n",
              "      <th>0</th>\n",
              "      <td>1</td>\n",
              "      <td>100-CI-T01</td>\n",
              "      <td>Pre-PQ Process</td>\n",
              "      <td>SCMS-4</td>\n",
              "      <td>ASN-8</td>\n",
              "      <td>Côte d'Ivoire</td>\n",
              "      <td>PMO - US</td>\n",
              "      <td>Direct Drop</td>\n",
              "      <td>EXW</td>\n",
              "      <td>Air</td>\n",
              "      <td>...</td>\n",
              "      <td>30</td>\n",
              "      <td>19</td>\n",
              "      <td>551.00</td>\n",
              "      <td>29.00</td>\n",
              "      <td>0.97</td>\n",
              "      <td>Ranbaxy Fine Chemicals LTD</td>\n",
              "      <td>Yes</td>\n",
              "      <td>13</td>\n",
              "      <td>780.34</td>\n",
              "      <td>NaN</td>\n",
              "    </tr>\n",
              "    <tr>\n",
              "      <th>1</th>\n",
              "      <td>3</td>\n",
              "      <td>108-VN-T01</td>\n",
              "      <td>Pre-PQ Process</td>\n",
              "      <td>SCMS-13</td>\n",
              "      <td>ASN-85</td>\n",
              "      <td>Vietnam</td>\n",
              "      <td>PMO - US</td>\n",
              "      <td>Direct Drop</td>\n",
              "      <td>EXW</td>\n",
              "      <td>Air</td>\n",
              "      <td>...</td>\n",
              "      <td>240</td>\n",
              "      <td>1000</td>\n",
              "      <td>6200.00</td>\n",
              "      <td>6.20</td>\n",
              "      <td>0.03</td>\n",
              "      <td>Aurobindo Unit III, India</td>\n",
              "      <td>Yes</td>\n",
              "      <td>358</td>\n",
              "      <td>4521.5</td>\n",
              "      <td>NaN</td>\n",
              "    </tr>\n",
              "    <tr>\n",
              "      <th>2</th>\n",
              "      <td>4</td>\n",
              "      <td>100-CI-T01</td>\n",
              "      <td>Pre-PQ Process</td>\n",
              "      <td>SCMS-20</td>\n",
              "      <td>ASN-14</td>\n",
              "      <td>Côte d'Ivoire</td>\n",
              "      <td>PMO - US</td>\n",
              "      <td>Direct Drop</td>\n",
              "      <td>FCA</td>\n",
              "      <td>Air</td>\n",
              "      <td>...</td>\n",
              "      <td>100</td>\n",
              "      <td>500</td>\n",
              "      <td>40000.00</td>\n",
              "      <td>80.00</td>\n",
              "      <td>0.80</td>\n",
              "      <td>ABBVIE GmbH &amp; Co.KG Wiesbaden</td>\n",
              "      <td>Yes</td>\n",
              "      <td>171</td>\n",
              "      <td>1653.78</td>\n",
              "      <td>NaN</td>\n",
              "    </tr>\n",
              "    <tr>\n",
              "      <th>3</th>\n",
              "      <td>15</td>\n",
              "      <td>108-VN-T01</td>\n",
              "      <td>Pre-PQ Process</td>\n",
              "      <td>SCMS-78</td>\n",
              "      <td>ASN-50</td>\n",
              "      <td>Vietnam</td>\n",
              "      <td>PMO - US</td>\n",
              "      <td>Direct Drop</td>\n",
              "      <td>EXW</td>\n",
              "      <td>Air</td>\n",
              "      <td>...</td>\n",
              "      <td>60</td>\n",
              "      <td>31920</td>\n",
              "      <td>127360.80</td>\n",
              "      <td>3.99</td>\n",
              "      <td>0.07</td>\n",
              "      <td>Ranbaxy, Paonta Shahib, India</td>\n",
              "      <td>Yes</td>\n",
              "      <td>1855</td>\n",
              "      <td>16007.06</td>\n",
              "      <td>NaN</td>\n",
              "    </tr>\n",
              "    <tr>\n",
              "      <th>4</th>\n",
              "      <td>16</td>\n",
              "      <td>108-VN-T01</td>\n",
              "      <td>Pre-PQ Process</td>\n",
              "      <td>SCMS-81</td>\n",
              "      <td>ASN-55</td>\n",
              "      <td>Vietnam</td>\n",
              "      <td>PMO - US</td>\n",
              "      <td>Direct Drop</td>\n",
              "      <td>EXW</td>\n",
              "      <td>Air</td>\n",
              "      <td>...</td>\n",
              "      <td>60</td>\n",
              "      <td>38000</td>\n",
              "      <td>121600.00</td>\n",
              "      <td>3.20</td>\n",
              "      <td>0.05</td>\n",
              "      <td>Aurobindo Unit III, India</td>\n",
              "      <td>Yes</td>\n",
              "      <td>7590</td>\n",
              "      <td>45450.08</td>\n",
              "      <td>NaN</td>\n",
              "    </tr>\n",
              "    <tr>\n",
              "      <th>...</th>\n",
              "      <td>...</td>\n",
              "      <td>...</td>\n",
              "      <td>...</td>\n",
              "      <td>...</td>\n",
              "      <td>...</td>\n",
              "      <td>...</td>\n",
              "      <td>...</td>\n",
              "      <td>...</td>\n",
              "      <td>...</td>\n",
              "      <td>...</td>\n",
              "      <td>...</td>\n",
              "      <td>...</td>\n",
              "      <td>...</td>\n",
              "      <td>...</td>\n",
              "      <td>...</td>\n",
              "      <td>...</td>\n",
              "      <td>...</td>\n",
              "      <td>...</td>\n",
              "      <td>...</td>\n",
              "      <td>...</td>\n",
              "      <td>...</td>\n",
              "    </tr>\n",
              "    <tr>\n",
              "      <th>10319</th>\n",
              "      <td>86818</td>\n",
              "      <td>103-ZW-T30</td>\n",
              "      <td>FPQ-15197</td>\n",
              "      <td>SO-50020</td>\n",
              "      <td>DN-4307</td>\n",
              "      <td>Zimbabwe</td>\n",
              "      <td>PMO - US</td>\n",
              "      <td>From RDC</td>\n",
              "      <td>N/A - From RDC</td>\n",
              "      <td>Truck</td>\n",
              "      <td>...</td>\n",
              "      <td>60</td>\n",
              "      <td>166571</td>\n",
              "      <td>599655.60</td>\n",
              "      <td>3.60</td>\n",
              "      <td>0.06</td>\n",
              "      <td>Mylan,  H-12 &amp; H-13, India</td>\n",
              "      <td>No</td>\n",
              "      <td>See DN-4307 (ID#:83920)</td>\n",
              "      <td>See DN-4307 (ID#:83920)</td>\n",
              "      <td>705.79</td>\n",
              "    </tr>\n",
              "    <tr>\n",
              "      <th>10320</th>\n",
              "      <td>86819</td>\n",
              "      <td>104-CI-T30</td>\n",
              "      <td>FPQ-15259</td>\n",
              "      <td>SO-50102</td>\n",
              "      <td>DN-4313</td>\n",
              "      <td>Côte d'Ivoire</td>\n",
              "      <td>PMO - US</td>\n",
              "      <td>From RDC</td>\n",
              "      <td>N/A - From RDC</td>\n",
              "      <td>Truck</td>\n",
              "      <td>...</td>\n",
              "      <td>60</td>\n",
              "      <td>21072</td>\n",
              "      <td>137389.44</td>\n",
              "      <td>6.52</td>\n",
              "      <td>0.11</td>\n",
              "      <td>Hetero Unit III Hyderabad IN</td>\n",
              "      <td>No</td>\n",
              "      <td>See DN-4313 (ID#:83921)</td>\n",
              "      <td>See DN-4313 (ID#:83921)</td>\n",
              "      <td>161.71</td>\n",
              "    </tr>\n",
              "    <tr>\n",
              "      <th>10321</th>\n",
              "      <td>86821</td>\n",
              "      <td>110-ZM-T30</td>\n",
              "      <td>FPQ-14784</td>\n",
              "      <td>SO-49600</td>\n",
              "      <td>DN-4316</td>\n",
              "      <td>Zambia</td>\n",
              "      <td>PMO - US</td>\n",
              "      <td>From RDC</td>\n",
              "      <td>N/A - From RDC</td>\n",
              "      <td>Truck</td>\n",
              "      <td>...</td>\n",
              "      <td>30</td>\n",
              "      <td>514526</td>\n",
              "      <td>5140114.74</td>\n",
              "      <td>9.99</td>\n",
              "      <td>0.33</td>\n",
              "      <td>Cipla Ltd A-42 MIDC Mahar. IN</td>\n",
              "      <td>No</td>\n",
              "      <td>Weight Captured Separately</td>\n",
              "      <td>Freight Included in Commodity Cost</td>\n",
              "      <td>5284.04</td>\n",
              "    </tr>\n",
              "    <tr>\n",
              "      <th>10322</th>\n",
              "      <td>86822</td>\n",
              "      <td>200-ZW-T30</td>\n",
              "      <td>FPQ-16523</td>\n",
              "      <td>SO-51680</td>\n",
              "      <td>DN-4334</td>\n",
              "      <td>Zimbabwe</td>\n",
              "      <td>PMO - US</td>\n",
              "      <td>From RDC</td>\n",
              "      <td>N/A - From RDC</td>\n",
              "      <td>Truck</td>\n",
              "      <td>...</td>\n",
              "      <td>60</td>\n",
              "      <td>17465</td>\n",
              "      <td>113871.80</td>\n",
              "      <td>6.52</td>\n",
              "      <td>0.11</td>\n",
              "      <td>Mylan (formerly Matrix) Nashik</td>\n",
              "      <td>Yes</td>\n",
              "      <td>1392</td>\n",
              "      <td>Freight Included in Commodity Cost</td>\n",
              "      <td>134.03</td>\n",
              "    </tr>\n",
              "    <tr>\n",
              "      <th>10323</th>\n",
              "      <td>86823</td>\n",
              "      <td>103-ZW-T30</td>\n",
              "      <td>FPQ-15197</td>\n",
              "      <td>SO-50022</td>\n",
              "      <td>DN-4336</td>\n",
              "      <td>Zimbabwe</td>\n",
              "      <td>PMO - US</td>\n",
              "      <td>From RDC</td>\n",
              "      <td>N/A - From RDC</td>\n",
              "      <td>Truck</td>\n",
              "      <td>...</td>\n",
              "      <td>60</td>\n",
              "      <td>36639</td>\n",
              "      <td>72911.61</td>\n",
              "      <td>1.99</td>\n",
              "      <td>0.03</td>\n",
              "      <td>Cipla, Goa, India</td>\n",
              "      <td>No</td>\n",
              "      <td>Weight Captured Separately</td>\n",
              "      <td>Freight Included in Commodity Cost</td>\n",
              "      <td>85.82</td>\n",
              "    </tr>\n",
              "  </tbody>\n",
              "</table>\n",
              "<p>10324 rows × 33 columns</p>\n",
              "</div>\n",
              "    <div class=\"colab-df-buttons\">\n",
              "\n",
              "  <div class=\"colab-df-container\">\n",
              "    <button class=\"colab-df-convert\" onclick=\"convertToInteractive('df-81299115-7f81-4aa1-bea5-d3e45caa7327')\"\n",
              "            title=\"Convert this dataframe to an interactive table.\"\n",
              "            style=\"display:none;\">\n",
              "\n",
              "  <svg xmlns=\"http://www.w3.org/2000/svg\" height=\"24px\" viewBox=\"0 -960 960 960\">\n",
              "    <path d=\"M120-120v-720h720v720H120Zm60-500h600v-160H180v160Zm220 220h160v-160H400v160Zm0 220h160v-160H400v160ZM180-400h160v-160H180v160Zm440 0h160v-160H620v160ZM180-180h160v-160H180v160Zm440 0h160v-160H620v160Z\"/>\n",
              "  </svg>\n",
              "    </button>\n",
              "\n",
              "  <style>\n",
              "    .colab-df-container {\n",
              "      display:flex;\n",
              "      gap: 12px;\n",
              "    }\n",
              "\n",
              "    .colab-df-convert {\n",
              "      background-color: #E8F0FE;\n",
              "      border: none;\n",
              "      border-radius: 50%;\n",
              "      cursor: pointer;\n",
              "      display: none;\n",
              "      fill: #1967D2;\n",
              "      height: 32px;\n",
              "      padding: 0 0 0 0;\n",
              "      width: 32px;\n",
              "    }\n",
              "\n",
              "    .colab-df-convert:hover {\n",
              "      background-color: #E2EBFA;\n",
              "      box-shadow: 0px 1px 2px rgba(60, 64, 67, 0.3), 0px 1px 3px 1px rgba(60, 64, 67, 0.15);\n",
              "      fill: #174EA6;\n",
              "    }\n",
              "\n",
              "    .colab-df-buttons div {\n",
              "      margin-bottom: 4px;\n",
              "    }\n",
              "\n",
              "    [theme=dark] .colab-df-convert {\n",
              "      background-color: #3B4455;\n",
              "      fill: #D2E3FC;\n",
              "    }\n",
              "\n",
              "    [theme=dark] .colab-df-convert:hover {\n",
              "      background-color: #434B5C;\n",
              "      box-shadow: 0px 1px 3px 1px rgba(0, 0, 0, 0.15);\n",
              "      filter: drop-shadow(0px 1px 2px rgba(0, 0, 0, 0.3));\n",
              "      fill: #FFFFFF;\n",
              "    }\n",
              "  </style>\n",
              "\n",
              "    <script>\n",
              "      const buttonEl =\n",
              "        document.querySelector('#df-81299115-7f81-4aa1-bea5-d3e45caa7327 button.colab-df-convert');\n",
              "      buttonEl.style.display =\n",
              "        google.colab.kernel.accessAllowed ? 'block' : 'none';\n",
              "\n",
              "      async function convertToInteractive(key) {\n",
              "        const element = document.querySelector('#df-81299115-7f81-4aa1-bea5-d3e45caa7327');\n",
              "        const dataTable =\n",
              "          await google.colab.kernel.invokeFunction('convertToInteractive',\n",
              "                                                    [key], {});\n",
              "        if (!dataTable) return;\n",
              "\n",
              "        const docLinkHtml = 'Like what you see? Visit the ' +\n",
              "          '<a target=\"_blank\" href=https://colab.research.google.com/notebooks/data_table.ipynb>data table notebook</a>'\n",
              "          + ' to learn more about interactive tables.';\n",
              "        element.innerHTML = '';\n",
              "        dataTable['output_type'] = 'display_data';\n",
              "        await google.colab.output.renderOutput(dataTable, element);\n",
              "        const docLink = document.createElement('div');\n",
              "        docLink.innerHTML = docLinkHtml;\n",
              "        element.appendChild(docLink);\n",
              "      }\n",
              "    </script>\n",
              "  </div>\n",
              "\n",
              "\n",
              "<div id=\"df-cb27bd38-f76d-43aa-abd7-ba2cba279ec9\">\n",
              "  <button class=\"colab-df-quickchart\" onclick=\"quickchart('df-cb27bd38-f76d-43aa-abd7-ba2cba279ec9')\"\n",
              "            title=\"Suggest charts\"\n",
              "            style=\"display:none;\">\n",
              "\n",
              "<svg xmlns=\"http://www.w3.org/2000/svg\" height=\"24px\"viewBox=\"0 0 24 24\"\n",
              "     width=\"24px\">\n",
              "    <g>\n",
              "        <path d=\"M19 3H5c-1.1 0-2 .9-2 2v14c0 1.1.9 2 2 2h14c1.1 0 2-.9 2-2V5c0-1.1-.9-2-2-2zM9 17H7v-7h2v7zm4 0h-2V7h2v10zm4 0h-2v-4h2v4z\"/>\n",
              "    </g>\n",
              "</svg>\n",
              "  </button>\n",
              "\n",
              "<style>\n",
              "  .colab-df-quickchart {\n",
              "      --bg-color: #E8F0FE;\n",
              "      --fill-color: #1967D2;\n",
              "      --hover-bg-color: #E2EBFA;\n",
              "      --hover-fill-color: #174EA6;\n",
              "      --disabled-fill-color: #AAA;\n",
              "      --disabled-bg-color: #DDD;\n",
              "  }\n",
              "\n",
              "  [theme=dark] .colab-df-quickchart {\n",
              "      --bg-color: #3B4455;\n",
              "      --fill-color: #D2E3FC;\n",
              "      --hover-bg-color: #434B5C;\n",
              "      --hover-fill-color: #FFFFFF;\n",
              "      --disabled-bg-color: #3B4455;\n",
              "      --disabled-fill-color: #666;\n",
              "  }\n",
              "\n",
              "  .colab-df-quickchart {\n",
              "    background-color: var(--bg-color);\n",
              "    border: none;\n",
              "    border-radius: 50%;\n",
              "    cursor: pointer;\n",
              "    display: none;\n",
              "    fill: var(--fill-color);\n",
              "    height: 32px;\n",
              "    padding: 0;\n",
              "    width: 32px;\n",
              "  }\n",
              "\n",
              "  .colab-df-quickchart:hover {\n",
              "    background-color: var(--hover-bg-color);\n",
              "    box-shadow: 0 1px 2px rgba(60, 64, 67, 0.3), 0 1px 3px 1px rgba(60, 64, 67, 0.15);\n",
              "    fill: var(--button-hover-fill-color);\n",
              "  }\n",
              "\n",
              "  .colab-df-quickchart-complete:disabled,\n",
              "  .colab-df-quickchart-complete:disabled:hover {\n",
              "    background-color: var(--disabled-bg-color);\n",
              "    fill: var(--disabled-fill-color);\n",
              "    box-shadow: none;\n",
              "  }\n",
              "\n",
              "  .colab-df-spinner {\n",
              "    border: 2px solid var(--fill-color);\n",
              "    border-color: transparent;\n",
              "    border-bottom-color: var(--fill-color);\n",
              "    animation:\n",
              "      spin 1s steps(1) infinite;\n",
              "  }\n",
              "\n",
              "  @keyframes spin {\n",
              "    0% {\n",
              "      border-color: transparent;\n",
              "      border-bottom-color: var(--fill-color);\n",
              "      border-left-color: var(--fill-color);\n",
              "    }\n",
              "    20% {\n",
              "      border-color: transparent;\n",
              "      border-left-color: var(--fill-color);\n",
              "      border-top-color: var(--fill-color);\n",
              "    }\n",
              "    30% {\n",
              "      border-color: transparent;\n",
              "      border-left-color: var(--fill-color);\n",
              "      border-top-color: var(--fill-color);\n",
              "      border-right-color: var(--fill-color);\n",
              "    }\n",
              "    40% {\n",
              "      border-color: transparent;\n",
              "      border-right-color: var(--fill-color);\n",
              "      border-top-color: var(--fill-color);\n",
              "    }\n",
              "    60% {\n",
              "      border-color: transparent;\n",
              "      border-right-color: var(--fill-color);\n",
              "    }\n",
              "    80% {\n",
              "      border-color: transparent;\n",
              "      border-right-color: var(--fill-color);\n",
              "      border-bottom-color: var(--fill-color);\n",
              "    }\n",
              "    90% {\n",
              "      border-color: transparent;\n",
              "      border-bottom-color: var(--fill-color);\n",
              "    }\n",
              "  }\n",
              "</style>\n",
              "\n",
              "  <script>\n",
              "    async function quickchart(key) {\n",
              "      const quickchartButtonEl =\n",
              "        document.querySelector('#' + key + ' button');\n",
              "      quickchartButtonEl.disabled = true;  // To prevent multiple clicks.\n",
              "      quickchartButtonEl.classList.add('colab-df-spinner');\n",
              "      try {\n",
              "        const charts = await google.colab.kernel.invokeFunction(\n",
              "            'suggestCharts', [key], {});\n",
              "      } catch (error) {\n",
              "        console.error('Error during call to suggestCharts:', error);\n",
              "      }\n",
              "      quickchartButtonEl.classList.remove('colab-df-spinner');\n",
              "      quickchartButtonEl.classList.add('colab-df-quickchart-complete');\n",
              "    }\n",
              "    (() => {\n",
              "      let quickchartButtonEl =\n",
              "        document.querySelector('#df-cb27bd38-f76d-43aa-abd7-ba2cba279ec9 button');\n",
              "      quickchartButtonEl.style.display =\n",
              "        google.colab.kernel.accessAllowed ? 'block' : 'none';\n",
              "    })();\n",
              "  </script>\n",
              "</div>\n",
              "\n",
              "  <div id=\"id_8b8a6f84-4d71-4486-bd67-ce9eace4b13a\">\n",
              "    <style>\n",
              "      .colab-df-generate {\n",
              "        background-color: #E8F0FE;\n",
              "        border: none;\n",
              "        border-radius: 50%;\n",
              "        cursor: pointer;\n",
              "        display: none;\n",
              "        fill: #1967D2;\n",
              "        height: 32px;\n",
              "        padding: 0 0 0 0;\n",
              "        width: 32px;\n",
              "      }\n",
              "\n",
              "      .colab-df-generate:hover {\n",
              "        background-color: #E2EBFA;\n",
              "        box-shadow: 0px 1px 2px rgba(60, 64, 67, 0.3), 0px 1px 3px 1px rgba(60, 64, 67, 0.15);\n",
              "        fill: #174EA6;\n",
              "      }\n",
              "\n",
              "      [theme=dark] .colab-df-generate {\n",
              "        background-color: #3B4455;\n",
              "        fill: #D2E3FC;\n",
              "      }\n",
              "\n",
              "      [theme=dark] .colab-df-generate:hover {\n",
              "        background-color: #434B5C;\n",
              "        box-shadow: 0px 1px 3px 1px rgba(0, 0, 0, 0.15);\n",
              "        filter: drop-shadow(0px 1px 2px rgba(0, 0, 0, 0.3));\n",
              "        fill: #FFFFFF;\n",
              "      }\n",
              "    </style>\n",
              "    <button class=\"colab-df-generate\" onclick=\"generateWithVariable('df')\"\n",
              "            title=\"Generate code using this dataframe.\"\n",
              "            style=\"display:none;\">\n",
              "\n",
              "  <svg xmlns=\"http://www.w3.org/2000/svg\" height=\"24px\"viewBox=\"0 0 24 24\"\n",
              "       width=\"24px\">\n",
              "    <path d=\"M7,19H8.4L18.45,9,17,7.55,7,17.6ZM5,21V16.75L18.45,3.32a2,2,0,0,1,2.83,0l1.4,1.43a1.91,1.91,0,0,1,.58,1.4,1.91,1.91,0,0,1-.58,1.4L9.25,21ZM18.45,9,17,7.55Zm-12,3A5.31,5.31,0,0,0,4.9,8.1,5.31,5.31,0,0,0,1,6.5,5.31,5.31,0,0,0,4.9,4.9,5.31,5.31,0,0,0,6.5,1,5.31,5.31,0,0,0,8.1,4.9,5.31,5.31,0,0,0,12,6.5,5.46,5.46,0,0,0,6.5,12Z\"/>\n",
              "  </svg>\n",
              "    </button>\n",
              "    <script>\n",
              "      (() => {\n",
              "      const buttonEl =\n",
              "        document.querySelector('#id_8b8a6f84-4d71-4486-bd67-ce9eace4b13a button.colab-df-generate');\n",
              "      buttonEl.style.display =\n",
              "        google.colab.kernel.accessAllowed ? 'block' : 'none';\n",
              "\n",
              "      buttonEl.onclick = () => {\n",
              "        google.colab.notebook.generateWithVariable('df');\n",
              "      }\n",
              "      })();\n",
              "    </script>\n",
              "  </div>\n",
              "\n",
              "    </div>\n",
              "  </div>\n"
            ],
            "text/plain": [
              "          ID Project Code            PQ # PO / SO # ASN/DN #        Country  \\\n",
              "0          1   100-CI-T01  Pre-PQ Process    SCMS-4    ASN-8  Côte d'Ivoire   \n",
              "1          3   108-VN-T01  Pre-PQ Process   SCMS-13   ASN-85        Vietnam   \n",
              "2          4   100-CI-T01  Pre-PQ Process   SCMS-20   ASN-14  Côte d'Ivoire   \n",
              "3         15   108-VN-T01  Pre-PQ Process   SCMS-78   ASN-50        Vietnam   \n",
              "4         16   108-VN-T01  Pre-PQ Process   SCMS-81   ASN-55        Vietnam   \n",
              "...      ...          ...             ...       ...      ...            ...   \n",
              "10319  86818   103-ZW-T30       FPQ-15197  SO-50020  DN-4307       Zimbabwe   \n",
              "10320  86819   104-CI-T30       FPQ-15259  SO-50102  DN-4313  Côte d'Ivoire   \n",
              "10321  86821   110-ZM-T30       FPQ-14784  SO-49600  DN-4316         Zambia   \n",
              "10322  86822   200-ZW-T30       FPQ-16523  SO-51680  DN-4334       Zimbabwe   \n",
              "10323  86823   103-ZW-T30       FPQ-15197  SO-50022  DN-4336       Zimbabwe   \n",
              "\n",
              "      Managed By  Fulfill Via Vendor INCO Term Shipment Mode  ...  \\\n",
              "0       PMO - US  Direct Drop              EXW           Air  ...   \n",
              "1       PMO - US  Direct Drop              EXW           Air  ...   \n",
              "2       PMO - US  Direct Drop              FCA           Air  ...   \n",
              "3       PMO - US  Direct Drop              EXW           Air  ...   \n",
              "4       PMO - US  Direct Drop              EXW           Air  ...   \n",
              "...          ...          ...              ...           ...  ...   \n",
              "10319   PMO - US     From RDC   N/A - From RDC         Truck  ...   \n",
              "10320   PMO - US     From RDC   N/A - From RDC         Truck  ...   \n",
              "10321   PMO - US     From RDC   N/A - From RDC         Truck  ...   \n",
              "10322   PMO - US     From RDC   N/A - From RDC         Truck  ...   \n",
              "10323   PMO - US     From RDC   N/A - From RDC         Truck  ...   \n",
              "\n",
              "      Unit of Measure (Per Pack) Line Item Quantity Line Item Value  \\\n",
              "0                             30                 19          551.00   \n",
              "1                            240               1000         6200.00   \n",
              "2                            100                500        40000.00   \n",
              "3                             60              31920       127360.80   \n",
              "4                             60              38000       121600.00   \n",
              "...                          ...                ...             ...   \n",
              "10319                         60             166571       599655.60   \n",
              "10320                         60              21072       137389.44   \n",
              "10321                         30             514526      5140114.74   \n",
              "10322                         60              17465       113871.80   \n",
              "10323                         60              36639        72911.61   \n",
              "\n",
              "      Pack Price Unit Price              Manufacturing Site  \\\n",
              "0          29.00       0.97      Ranbaxy Fine Chemicals LTD   \n",
              "1           6.20       0.03       Aurobindo Unit III, India   \n",
              "2          80.00       0.80   ABBVIE GmbH & Co.KG Wiesbaden   \n",
              "3           3.99       0.07   Ranbaxy, Paonta Shahib, India   \n",
              "4           3.20       0.05       Aurobindo Unit III, India   \n",
              "...          ...        ...                             ...   \n",
              "10319       3.60       0.06      Mylan,  H-12 & H-13, India   \n",
              "10320       6.52       0.11    Hetero Unit III Hyderabad IN   \n",
              "10321       9.99       0.33   Cipla Ltd A-42 MIDC Mahar. IN   \n",
              "10322       6.52       0.11  Mylan (formerly Matrix) Nashik   \n",
              "10323       1.99       0.03               Cipla, Goa, India   \n",
              "\n",
              "      First Line Designation          Weight (Kilograms)  \\\n",
              "0                        Yes                          13   \n",
              "1                        Yes                         358   \n",
              "2                        Yes                         171   \n",
              "3                        Yes                        1855   \n",
              "4                        Yes                        7590   \n",
              "...                      ...                         ...   \n",
              "10319                     No     See DN-4307 (ID#:83920)   \n",
              "10320                     No     See DN-4313 (ID#:83921)   \n",
              "10321                     No  Weight Captured Separately   \n",
              "10322                    Yes                        1392   \n",
              "10323                     No  Weight Captured Separately   \n",
              "\n",
              "                       Freight Cost (USD) Line Item Insurance (USD)  \n",
              "0                                  780.34                       NaN  \n",
              "1                                  4521.5                       NaN  \n",
              "2                                 1653.78                       NaN  \n",
              "3                                16007.06                       NaN  \n",
              "4                                45450.08                       NaN  \n",
              "...                                   ...                       ...  \n",
              "10319             See DN-4307 (ID#:83920)                    705.79  \n",
              "10320             See DN-4313 (ID#:83921)                    161.71  \n",
              "10321  Freight Included in Commodity Cost                   5284.04  \n",
              "10322  Freight Included in Commodity Cost                    134.03  \n",
              "10323  Freight Included in Commodity Cost                     85.82  \n",
              "\n",
              "[10324 rows x 33 columns]"
            ]
          },
          "execution_count": 44,
          "metadata": {},
          "output_type": "execute_result"
        }
      ],
      "source": [
        "import pandas as pd\n",
        "\n",
        "df = pd.read_csv(\"/content/shipmentdata.csv\")\n",
        "df"
      ]
    },
    {
      "cell_type": "markdown",
      "metadata": {
        "id": "qf9LhksisPa3"
      },
      "source": [
        "5) Define Modules\n",
        "Here we define the set of modules:\n",
        "\n",
        "1.Pandas prompt to infer pandas instructions from user query\n",
        "\n",
        "2.Pandas output parser to execute pandas instructions on dataframe, get back dataframe\n",
        "\n",
        "3.Response synthesis prompt to synthesize a final response given the dataframe\n",
        "LLM\n",
        "\n",
        "The pandas output parser specifically is designed to safely execute Python code. It includes a lot of safety checks that may be annoying to write from scratch. This includes only importing from a set of approved modules (e.g. no modules that would alter the file system like os), and also making sure that no private/dunder methods are being called."
      ]
    },
    {
      "cell_type": "code",
      "execution_count": null,
      "metadata": {
        "id": "UTaYZ_xin1h0"
      },
      "outputs": [],
      "source": [
        "instruction_str = (\n",
        "    \"1. Convert the query to executable Python code using Pandas.\\n\"\n",
        "    \"2. The final line of code should be a Python expression that can be called with the `eval()` function.\\n\"\n",
        "    \"3. The code should represent a solution to the query.\\n\"\n",
        "    \"4. PRINT ONLY THE EXPRESSION.\\n\"\n",
        "    \"5. Do not quote the expression.\\n\"\n",
        ")\n",
        "\n",
        "pandas_prompt_str = (\n",
        "    \"You are working with a pandas dataframe in Python.\\n\"\n",
        "    \"The name of the dataframe is `df`.\\n\"\n",
        "    \"This is the result of `print(df.head())`:\\n\"\n",
        "    \"{df_str}\\n\\n\"\n",
        "    \"Follow these instructions:\\n\"\n",
        "    \"{instruction_str}\\n\"\n",
        "    \"Query: {query_str}\\n\\n\"\n",
        "    \"Expression:\"\n",
        ")\n",
        "response_synthesis_prompt_str = (\n",
        "    \"Given an input question, synthesize a response from the query results.\\n\"\n",
        "    \"Query: {query_str}\\n\\n\"\n",
        "    \"Pandas Instructions (optional):\\n{pandas_instructions}\\n\\n\"\n",
        "    \"Pandas Output: {pandas_output}\\n\\n\"\n",
        "    \"Response: \"\n",
        ")\n",
        "\n",
        "pandas_prompt = PromptTemplate(pandas_prompt_str).partial_format(\n",
        "    instruction_str=instruction_str, df_str=df.head(5)\n",
        ")\n",
        "pandas_output_parser = PandasInstructionParser(df)\n",
        "response_synthesis_prompt = PromptTemplate(response_synthesis_prompt_str)\n",
        "llm = OpenAI(model=\"gpt-3.5-turbo\")"
      ]
    },
    {
      "cell_type": "markdown",
      "metadata": {
        "id": "eF9IiZydseZk"
      },
      "source": [
        "6) Build Query Pipeline\n",
        "Looks like this: input query_str -> pandas_prompt -> llm1 -> pandas_output_parser -> response_synthesis_prompt -> llm2\n",
        "\n",
        "Additional connections to response_synthesis_prompt: llm1 -> pandas_instructions, and pandas_output_parser -> pandas_output."
      ]
    },
    {
      "cell_type": "code",
      "execution_count": null,
      "metadata": {
        "id": "A4-3wuXZn1fa"
      },
      "outputs": [],
      "source": [
        "qp = QP(\n",
        "    modules={\n",
        "        \"input\": InputComponent(),\n",
        "        \"pandas_prompt\": pandas_prompt,\n",
        "        \"llm1\": llm,\n",
        "        \"pandas_output_parser\": pandas_output_parser,\n",
        "        \"response_synthesis_prompt\": response_synthesis_prompt,\n",
        "        \"llm2\": llm,\n",
        "    },\n",
        "    verbose=False,\n",
        ")\n",
        "qp.add_chain([\"input\", \"pandas_prompt\", \"llm1\", \"pandas_output_parser\"])\n",
        "qp.add_links(\n",
        "    [\n",
        "        Link(\"input\", \"response_synthesis_prompt\", dest_key=\"query_str\"),\n",
        "        Link(\n",
        "            \"llm1\", \"response_synthesis_prompt\", dest_key=\"pandas_instructions\"\n",
        "        ),\n",
        "        Link(\n",
        "            \"pandas_output_parser\",\n",
        "            \"response_synthesis_prompt\",\n",
        "            dest_key=\"pandas_output\",\n",
        "        ),\n",
        "    ]\n",
        ")\n",
        "# add link from response synthesis prompt to llm2\n",
        "qp.add_link(\"response_synthesis_prompt\", \"llm2\")"
      ]
    },
    {
      "cell_type": "markdown",
      "metadata": {
        "id": "0kVGNv3Rslv_"
      },
      "source": [
        "7) Run Query"
      ]
    },
    {
      "cell_type": "code",
      "execution_count": null,
      "metadata": {
        "id": "osxRis2Movbf"
      },
      "outputs": [],
      "source": [
        "response = qp.run(\n",
        "    query_str=\"What are the countries managed_by pmo_us ?\",\n",
        ")"
      ]
    },
    {
      "cell_type": "code",
      "execution_count": null,
      "metadata": {
        "colab": {
          "base_uri": "https://localhost:8080/"
        },
        "id": "MWUSh4K6o07I",
        "outputId": "0ff5c744-061d-4974-a13e-699a4a4b432e"
      },
      "outputs": [
        {
          "name": "stdout",
          "output_type": "stream",
          "text": [
            "The countries managed by PMO - US include Côte d'Ivoire, Vietnam, Zimbabwe, Zambia, and others.\n"
          ]
        }
      ],
      "source": [
        "print(response.message.content)"
      ]
    },
    {
      "cell_type": "code",
      "execution_count": null,
      "metadata": {
        "id": "NVE_AOH2o5NL"
      },
      "outputs": [],
      "source": [
        "response = qp.run(\n",
        "    query_str=\"What is vendor for brand reveal ?\",\n",
        ")"
      ]
    },
    {
      "cell_type": "code",
      "execution_count": null,
      "metadata": {
        "colab": {
          "base_uri": "https://localhost:8080/"
        },
        "id": "nknbRa8ppi8J",
        "outputId": "89c777fb-aa68-420e-d79b-3fee0501ab28"
      },
      "outputs": [
        {
          "name": "stdout",
          "output_type": "stream",
          "text": [
            "The vendor for the brand \"reveal\" could not be found in the query results.\n"
          ]
        }
      ],
      "source": [
        "print(response.message.content)"
      ]
    },
    {
      "cell_type": "code",
      "execution_count": null,
      "metadata": {
        "id": "fbamtrhJpko6"
      },
      "outputs": [],
      "source": [
        "response = qp.run(\n",
        "    query_str=\"What are the shipment modes managed by pmo_us ?\",\n",
        ")"
      ]
    },
    {
      "cell_type": "code",
      "execution_count": null,
      "metadata": {
        "colab": {
          "base_uri": "https://localhost:8080/"
        },
        "id": "oj2tUJ-wrx5q",
        "outputId": "73a2b03b-a75d-4841-e624-0fc7dca2d5bf"
      },
      "outputs": [
        {
          "name": "stdout",
          "output_type": "stream",
          "text": [
            "The shipment modes managed by PMO - US include Air, Truck, Air Charter, and Ocean.\n"
          ]
        }
      ],
      "source": [
        "print(response.message.content)"
      ]
    },
    {
      "cell_type": "code",
      "execution_count": null,
      "metadata": {
        "id": "tZbZx_QhrzgX"
      },
      "outputs": [],
      "source": [
        "response = qp.run(\n",
        "    query_str=\"What is the shipment mode for id 2157?\",\n",
        ")"
      ]
    },
    {
      "cell_type": "code",
      "execution_count": null,
      "metadata": {
        "colab": {
          "base_uri": "https://localhost:8080/"
        },
        "id": "ZAl3Fnhnw9-w",
        "outputId": "408baab3-649b-4b4d-b93c-c726862ec35b"
      },
      "outputs": [
        {
          "name": "stdout",
          "output_type": "stream",
          "text": [
            "The shipment mode for ID 2157 is Truck.\n"
          ]
        }
      ],
      "source": [
        "print(response.message.content)"
      ]
    },
    {
      "cell_type": "code",
      "source": [
        "response = qp.run(\n",
        "    query_str=\"How many shipments are done till now?\",\n",
        ")"
      ],
      "metadata": {
        "id": "GJ4StnJ4Z95g"
      },
      "execution_count": null,
      "outputs": []
    },
    {
      "cell_type": "code",
      "source": [
        "print(response.message.content)"
      ],
      "metadata": {
        "colab": {
          "base_uri": "https://localhost:8080/"
        },
        "id": "XyjfHZ2zaGF6",
        "outputId": "0f1fd323-684d-430f-c7b6-cadcb2201bff"
      },
      "execution_count": null,
      "outputs": [
        {
          "output_type": "stream",
          "name": "stdout",
          "text": [
            "There have been 7030 shipments done till now.\n"
          ]
        }
      ]
    },
    {
      "cell_type": "code",
      "execution_count": null,
      "metadata": {
        "id": "eE0g-4rMxAOf"
      },
      "outputs": [],
      "source": [
        "response = qp.run(\n",
        "    query_str=\"How many rows and columns present in dataframe?\",\n",
        ")"
      ]
    },
    {
      "cell_type": "markdown",
      "metadata": {
        "id": "cBka9gfdHh6N"
      },
      "source": []
    },
    {
      "cell_type": "code",
      "execution_count": null,
      "metadata": {
        "colab": {
          "base_uri": "https://localhost:8080/"
        },
        "id": "p5MSbCRaagzd",
        "outputId": "50443e16-790f-4ac5-8c44-b8918993f64c"
      },
      "outputs": [
        {
          "name": "stdout",
          "output_type": "stream",
          "text": [
            "The dataframe contains 10324 rows and 33 columns.\n"
          ]
        }
      ],
      "source": [
        "print(response.message.content)"
      ]
    },
    {
      "cell_type": "code",
      "execution_count": null,
      "metadata": {
        "id": "vPiXU-wRaknQ"
      },
      "outputs": [],
      "source": [
        "response = qp.run(\n",
        "    query_str=\"when is the purchase order sent vendor date to id 1 ?\",\n",
        ")"
      ]
    },
    {
      "cell_type": "code",
      "execution_count": null,
      "metadata": {
        "colab": {
          "base_uri": "https://localhost:8080/"
        },
        "id": "ZWbGPouZbfVL",
        "outputId": "dfc2922a-4acd-454e-817b-5d35b6f4ec26"
      },
      "outputs": [
        {
          "name": "stdout",
          "output_type": "stream",
          "text": [
            "The purchase order with the ID 1 was sent to the vendor on SCMS-4.\n"
          ]
        }
      ],
      "source": [
        "print(response.message.content)"
      ]
    },
    {
      "cell_type": "code",
      "execution_count": null,
      "metadata": {
        "id": "ZG2V7GS_c3mK"
      },
      "outputs": [],
      "source": [
        "response = qp.run(\n",
        "    query_str=\"when is the scheduled delivery date and delivery recoded date for id 44 ?\",\n",
        ")"
      ]
    },
    {
      "cell_type": "code",
      "execution_count": null,
      "metadata": {
        "colab": {
          "base_uri": "https://localhost:8080/"
        },
        "id": "6Yxi5mTZdo1z",
        "outputId": "ff51c450-b8cb-4bdd-a9f6-56f579ea6fda"
      },
      "outputs": [
        {
          "name": "stdout",
          "output_type": "stream",
          "text": [
            "The scheduled delivery date and delivery recorded date for ID 44 is January 8, 2007.\n"
          ]
        }
      ],
      "source": [
        "print(response.message.content)"
      ]
    },
    {
      "cell_type": "code",
      "execution_count": null,
      "metadata": {
        "id": "2_quebUTdqZL"
      },
      "outputs": [],
      "source": [
        "response = qp.run(\n",
        "    query_str=\"what is the item description for brand reveal?\",\n",
        ")"
      ]
    },
    {
      "cell_type": "code",
      "execution_count": null,
      "metadata": {
        "colab": {
          "base_uri": "https://localhost:8080/"
        },
        "id": "g_JcE6NvgLR0",
        "outputId": "16b80600-671e-4144-b9d2-b53667ea41bf"
      },
      "outputs": [
        {
          "name": "stdout",
          "output_type": "stream",
          "text": [
            "The item description for brand Reveal is the HIV, Reveal G3 Rapid HIV-1 Antibody Test with 30 tests per pack.\n"
          ]
        }
      ],
      "source": [
        "print(response.message.content)"
      ]
    },
    {
      "cell_type": "code",
      "execution_count": null,
      "metadata": {
        "id": "tWykPt7wgOzm"
      },
      "outputs": [],
      "source": [
        "response = qp.run(\n",
        "    query_str=\"what is the item description and for brand reveal, pack price and unit price?\",\n",
        ")"
      ]
    },
    {
      "cell_type": "code",
      "execution_count": null,
      "metadata": {
        "colab": {
          "base_uri": "https://localhost:8080/"
        },
        "id": "8tVaI9JfjqSw",
        "outputId": "9bda1231-4ffe-423a-cda8-4139e2f257ec"
      },
      "outputs": [
        {
          "name": "stdout",
          "output_type": "stream",
          "text": [
            "The item description for the brand Reveal is the HIV, Reveal G3 Rapid HIV-1 Antibody Test with 30 Tests. The pack price for this item is $29.00 and the unit price is $0.97.\n"
          ]
        }
      ],
      "source": [
        "print(response.message.content)"
      ]
    },
    {
      "cell_type": "code",
      "execution_count": null,
      "metadata": {
        "id": "WLwZM3jNjsVJ"
      },
      "outputs": [],
      "source": [
        "response = qp.run(\n",
        "    query_str=\"when is the purchase order sent to vendor date for brand reveal ?\",\n",
        ")"
      ]
    },
    {
      "cell_type": "code",
      "execution_count": null,
      "metadata": {
        "colab": {
          "base_uri": "https://localhost:8080/"
        },
        "id": "01r10AOEkS2p",
        "outputId": "d7f0644f-6ea2-4d04-fd62-019b6a041f9a"
      },
      "outputs": [
        {
          "name": "stdout",
          "output_type": "stream",
          "text": [
            "The purchase order for the brand reveal is typically sent to the vendor on the date specified in the system. Unfortunately, there was an error retrieving the exact date from the database.\n"
          ]
        }
      ],
      "source": [
        "print(response.message.content)"
      ]
    },
    {
      "cell_type": "code",
      "execution_count": null,
      "metadata": {
        "id": "ISaZLoxQkUYI"
      },
      "outputs": [],
      "source": [
        "response = qp.run(\n",
        "    query_str=\"How many purchase order sent to vendor date for brand reveal are captured?\",\n",
        ")"
      ]
    },
    {
      "cell_type": "code",
      "execution_count": null,
      "metadata": {
        "colab": {
          "base_uri": "https://localhost:8080/"
        },
        "id": "_nuBZjFWk-Lp",
        "outputId": "6945b79b-6a5b-47ad-bbfd-b59e26e21971"
      },
      "outputs": [
        {
          "name": "stdout",
          "output_type": "stream",
          "text": [
            "There were a total of 346 purchase orders sent to vendors for the brand reveal captured in the data.\n"
          ]
        }
      ],
      "source": [
        "print(response.message.content)"
      ]
    },
    {
      "cell_type": "code",
      "execution_count": null,
      "metadata": {
        "id": "XRh288-0lBDl"
      },
      "outputs": [],
      "source": [
        "response = qp.run(\n",
        "    query_str=\"what is the scheduled delivery date , delivered to client date and delivery recorded date for brand reveal ?\",\n",
        ")"
      ]
    },
    {
      "cell_type": "code",
      "execution_count": null,
      "metadata": {
        "colab": {
          "base_uri": "https://localhost:8080/"
        },
        "id": "bKNr4sn3mTX7",
        "outputId": "b9272b15-cdc9-4243-cb48-b6dd79156309"
      },
      "outputs": [
        {
          "name": "stdout",
          "output_type": "stream",
          "text": [
            "There is no information available in the dataset for the scheduled delivery date, delivered to client date, and delivery recorded date for the brand reveal product group.\n"
          ]
        }
      ],
      "source": [
        "print(response.message.content)"
      ]
    },
    {
      "cell_type": "code",
      "execution_count": null,
      "metadata": {
        "colab": {
          "background_save": true
        },
        "id": "XehwiXEuONU6",
        "outputId": "6f66ca73-79bd-4b7b-f485-271db93e5b6f"
      },
      "outputs": [
        {
          "name": "stdout",
          "output_type": "stream",
          "text": [
            "The number of vendors for the item \"HIV, Reveal G3 Rapid HIV-1 Antibody Test, 30 Tests\" could not be determined due to an error in running the Python code.\n"
          ]
        }
      ],
      "source": [
        "print(response.message.content)"
      ]
    },
    {
      "cell_type": "markdown",
      "source": [
        "8) Benchmarking\n"
      ],
      "metadata": {
        "id": "Np-MXsGKuvuC"
      }
    },
    {
      "cell_type": "markdown",
      "source": [
        "9) Using Cross Encoder from Transformers :\n",
        "We calculated the  score by comparing the actual answer and generated answer\n",
        "\n"
      ],
      "metadata": {
        "id": "zMfWQdtcvOD8"
      }
    },
    {
      "cell_type": "code",
      "execution_count": null,
      "metadata": {
        "colab": {
          "background_save": true
        },
        "id": "LdZ1bISmmVh8",
        "outputId": "841df2b8-1892-45e5-f6b1-3065a0085606"
      },
      "outputs": [
        {
          "name": "stdout",
          "output_type": "stream",
          "text": [
            "Requirement already satisfied: sentence-transformers in /usr/local/lib/python3.10/dist-packages (2.6.1)\n",
            "Requirement already satisfied: transformers<5.0.0,>=4.32.0 in /usr/local/lib/python3.10/dist-packages (from sentence-transformers) (4.38.2)\n",
            "Requirement already satisfied: tqdm in /usr/local/lib/python3.10/dist-packages (from sentence-transformers) (4.66.2)\n",
            "Requirement already satisfied: torch>=1.11.0 in /usr/local/lib/python3.10/dist-packages (from sentence-transformers) (2.2.1+cu121)\n",
            "Requirement already satisfied: numpy in /usr/local/lib/python3.10/dist-packages (from sentence-transformers) (1.25.2)\n",
            "Requirement already satisfied: scikit-learn in /usr/local/lib/python3.10/dist-packages (from sentence-transformers) (1.2.2)\n",
            "Requirement already satisfied: scipy in /usr/local/lib/python3.10/dist-packages (from sentence-transformers) (1.11.4)\n",
            "Requirement already satisfied: huggingface-hub>=0.15.1 in /usr/local/lib/python3.10/dist-packages (from sentence-transformers) (0.20.3)\n",
            "Requirement already satisfied: Pillow in /usr/local/lib/python3.10/dist-packages (from sentence-transformers) (9.4.0)\n",
            "Requirement already satisfied: filelock in /usr/local/lib/python3.10/dist-packages (from huggingface-hub>=0.15.1->sentence-transformers) (3.13.3)\n",
            "Requirement already satisfied: fsspec>=2023.5.0 in /usr/local/lib/python3.10/dist-packages (from huggingface-hub>=0.15.1->sentence-transformers) (2023.6.0)\n",
            "Requirement already satisfied: requests in /usr/local/lib/python3.10/dist-packages (from huggingface-hub>=0.15.1->sentence-transformers) (2.31.0)\n",
            "Requirement already satisfied: pyyaml>=5.1 in /usr/local/lib/python3.10/dist-packages (from huggingface-hub>=0.15.1->sentence-transformers) (6.0.1)\n",
            "Requirement already satisfied: typing-extensions>=3.7.4.3 in /usr/local/lib/python3.10/dist-packages (from huggingface-hub>=0.15.1->sentence-transformers) (4.10.0)\n",
            "Requirement already satisfied: packaging>=20.9 in /usr/local/lib/python3.10/dist-packages (from huggingface-hub>=0.15.1->sentence-transformers) (24.0)\n",
            "Requirement already satisfied: sympy in /usr/local/lib/python3.10/dist-packages (from torch>=1.11.0->sentence-transformers) (1.12)\n",
            "Requirement already satisfied: networkx in /usr/local/lib/python3.10/dist-packages (from torch>=1.11.0->sentence-transformers) (3.2.1)\n",
            "Requirement already satisfied: jinja2 in /usr/local/lib/python3.10/dist-packages (from torch>=1.11.0->sentence-transformers) (3.1.3)\n",
            "Requirement already satisfied: nvidia-cuda-nvrtc-cu12==12.1.105 in /usr/local/lib/python3.10/dist-packages (from torch>=1.11.0->sentence-transformers) (12.1.105)\n",
            "Requirement already satisfied: nvidia-cuda-runtime-cu12==12.1.105 in /usr/local/lib/python3.10/dist-packages (from torch>=1.11.0->sentence-transformers) (12.1.105)\n",
            "Requirement already satisfied: nvidia-cuda-cupti-cu12==12.1.105 in /usr/local/lib/python3.10/dist-packages (from torch>=1.11.0->sentence-transformers) (12.1.105)\n",
            "Requirement already satisfied: nvidia-cudnn-cu12==8.9.2.26 in /usr/local/lib/python3.10/dist-packages (from torch>=1.11.0->sentence-transformers) (8.9.2.26)\n",
            "Requirement already satisfied: nvidia-cublas-cu12==12.1.3.1 in /usr/local/lib/python3.10/dist-packages (from torch>=1.11.0->sentence-transformers) (12.1.3.1)\n",
            "Requirement already satisfied: nvidia-cufft-cu12==11.0.2.54 in /usr/local/lib/python3.10/dist-packages (from torch>=1.11.0->sentence-transformers) (11.0.2.54)\n",
            "Requirement already satisfied: nvidia-curand-cu12==10.3.2.106 in /usr/local/lib/python3.10/dist-packages (from torch>=1.11.0->sentence-transformers) (10.3.2.106)\n",
            "Requirement already satisfied: nvidia-cusolver-cu12==11.4.5.107 in /usr/local/lib/python3.10/dist-packages (from torch>=1.11.0->sentence-transformers) (11.4.5.107)\n",
            "Requirement already satisfied: nvidia-cusparse-cu12==12.1.0.106 in /usr/local/lib/python3.10/dist-packages (from torch>=1.11.0->sentence-transformers) (12.1.0.106)\n",
            "Requirement already satisfied: nvidia-nccl-cu12==2.19.3 in /usr/local/lib/python3.10/dist-packages (from torch>=1.11.0->sentence-transformers) (2.19.3)\n",
            "Requirement already satisfied: nvidia-nvtx-cu12==12.1.105 in /usr/local/lib/python3.10/dist-packages (from torch>=1.11.0->sentence-transformers) (12.1.105)\n",
            "Requirement already satisfied: triton==2.2.0 in /usr/local/lib/python3.10/dist-packages (from torch>=1.11.0->sentence-transformers) (2.2.0)\n",
            "Requirement already satisfied: nvidia-nvjitlink-cu12 in /usr/local/lib/python3.10/dist-packages (from nvidia-cusolver-cu12==11.4.5.107->torch>=1.11.0->sentence-transformers) (12.4.99)\n",
            "Requirement already satisfied: regex!=2019.12.17 in /usr/local/lib/python3.10/dist-packages (from transformers<5.0.0,>=4.32.0->sentence-transformers) (2023.12.25)\n",
            "Requirement already satisfied: tokenizers<0.19,>=0.14 in /usr/local/lib/python3.10/dist-packages (from transformers<5.0.0,>=4.32.0->sentence-transformers) (0.15.2)\n",
            "Requirement already satisfied: safetensors>=0.4.1 in /usr/local/lib/python3.10/dist-packages (from transformers<5.0.0,>=4.32.0->sentence-transformers) (0.4.2)\n",
            "Requirement already satisfied: joblib>=1.1.1 in /usr/local/lib/python3.10/dist-packages (from scikit-learn->sentence-transformers) (1.3.2)\n",
            "Requirement already satisfied: threadpoolctl>=2.0.0 in /usr/local/lib/python3.10/dist-packages (from scikit-learn->sentence-transformers) (3.4.0)\n",
            "Requirement already satisfied: MarkupSafe>=2.0 in /usr/local/lib/python3.10/dist-packages (from jinja2->torch>=1.11.0->sentence-transformers) (2.1.5)\n",
            "Requirement already satisfied: charset-normalizer<4,>=2 in /usr/local/lib/python3.10/dist-packages (from requests->huggingface-hub>=0.15.1->sentence-transformers) (3.3.2)\n",
            "Requirement already satisfied: idna<4,>=2.5 in /usr/local/lib/python3.10/dist-packages (from requests->huggingface-hub>=0.15.1->sentence-transformers) (3.6)\n",
            "Requirement already satisfied: urllib3<3,>=1.21.1 in /usr/local/lib/python3.10/dist-packages (from requests->huggingface-hub>=0.15.1->sentence-transformers) (2.0.7)\n",
            "Requirement already satisfied: certifi>=2017.4.17 in /usr/local/lib/python3.10/dist-packages (from requests->huggingface-hub>=0.15.1->sentence-transformers) (2024.2.2)\n",
            "Requirement already satisfied: mpmath>=0.19 in /usr/local/lib/python3.10/dist-packages (from sympy->torch>=1.11.0->sentence-transformers) (1.3.0)\n"
          ]
        }
      ],
      "source": [
        "!pip install sentence-transformers\n",
        "from sentence_transformers import CrossEncoder\n",
        "cross_encoder = CrossEncoder('cross-encoder/ms-marco-MiniLM-L-6-v2')"
      ]
    },
    {
      "cell_type": "code",
      "execution_count": null,
      "metadata": {
        "colab": {
          "background_save": true
        },
        "id": "2PDvOJabz2Ia"
      },
      "outputs": [],
      "source": [
        "pairs=[[\"Côte d'Ivoire, Vietnam, Zimbabwe, Zambia\",\"The countries managed by PMO - US include Côte d'Ivoire, Vietnam, Zimbabwe, Zambia, and others.\"],\n",
        " [\"RANBAXY Fine Chemicals LTD , MEDMIRA EAST AFRICA LTD.\",\"The vendor for the brand Reveal is RANBAXY Fine Chemicals LTD. and MEDMIRA EAST AFRICA LTD.\"],\n",
        "  [\"Air, Truck, Air Charter,  Ocean.\",\"The shipment modes managed by PMO - US include Air, Truck, Air Charter, and Ocean.\"],\n",
        "  [\"Truck\",\"The shipment mode for id 2157 is Truck.\"],[\"Date Not Captured\",\"The purchase order sent to vendor date for ID 1 is not captured in the data.\"],\n",
        "  [\"08-01-2007, 08-01-2007\",\"The scheduled delivery date and delivery recorded date for ID 44 are both on January 8th, 2007\"],\n",
        "  [\"HIV, Reveal G3 Rapid HIV-1 Antibody Test, 30 Tests\",\"The item description for brand Reveal is the Reveal G3 Rapid HIV-1 Antibody Test, which comes in a pack of 30 tests\"]  ,\n",
        "  [\"HIV, Reveal G3 Rapid HIV-1 Antibody Test, 30 Tests,29,0.97\",\"The item description for the Reveal brand is the HIV, Reveal G3 Rapid HIV-1 Antibody Test with 30 tests per pack. The pack price is $29 and the unit price is $0.97.\"],\n",
        "  [\"Date Not Captured,Date Not Captured,1/18/2012\",\"The purchase order sent to the vendor date for the brand reveal was not captured in the data for most entries, but for one entry it was on 1/18/2012\"],\n",
        "  [\"2-Jun-06 , 2-Jun-06 ,2-Jun-06,8-Aug-06, 8-Aug-06,8-Aug-06.6-Feb-12,6-Feb-12,6-Feb-12\",\"The scheduled delivery date, delivered to client date, and delivery recorded date for the brand Reveal are as follows:1. Scheduled delivery date: 2-Jun-06, Delivered to client date: 2-Jun-06, Delivery recorded date: 2-Jun-06,2. Scheduled delivery date: 8-Aug-06, Delivered to client date: 8-Aug-06, Delivery recorded date: 8-Aug-06,3. Scheduled delivery date: 6-Feb-12, Delivered to client date: 6-Feb-12, Delivery recorded date: 6-Feb-12\"]]"
      ]
    },
    {
      "cell_type": "code",
      "execution_count": null,
      "metadata": {
        "colab": {
          "background_save": true
        },
        "id": "nzN5mNFA0Z09"
      },
      "outputs": [],
      "source": [
        "scores = cross_encoder.predict(pairs)"
      ]
    },
    {
      "cell_type": "code",
      "execution_count": null,
      "metadata": {
        "colab": {
          "background_save": true
        },
        "id": "wlpVbl490agF",
        "outputId": "230793af-4c02-41f5-a08a-accdf9ca2765"
      },
      "outputs": [
        {
          "data": {
            "text/plain": [
              "array([ 6.830568 ,  9.202995 ,  7.631928 ,  1.0353602,  6.100611 ,\n",
              "       -2.560357 ,  8.563869 ,  8.016855 ,  6.2121315,  5.0004883],\n",
              "      dtype=float32)"
            ]
          },
          "execution_count": 78,
          "metadata": {},
          "output_type": "execute_result"
        }
      ],
      "source": [
        "scores"
      ]
    },
    {
      "cell_type": "markdown",
      "source": [
        "10) Using Rouge Score :\n",
        "We calculated the Rouge score by comparing the actual answer and generated answer\n"
      ],
      "metadata": {
        "id": "vis1G7MwvS7I"
      }
    },
    {
      "cell_type": "code",
      "execution_count": null,
      "metadata": {
        "colab": {
          "background_save": true
        },
        "id": "Vr-cS2tI0cXD",
        "outputId": "8e8af554-03e9-4108-afc9-e221f4ed0eda"
      },
      "outputs": [
        {
          "name": "stdout",
          "output_type": "stream",
          "text": [
            "Requirement already satisfied: rouge in /usr/local/lib/python3.10/dist-packages (1.0.1)\n",
            "Requirement already satisfied: six in /usr/local/lib/python3.10/dist-packages (from rouge) (1.16.0)\n"
          ]
        }
      ],
      "source": [
        "!pip install rouge"
      ]
    },
    {
      "cell_type": "code",
      "execution_count": null,
      "metadata": {
        "colab": {
          "background_save": true
        },
        "id": "Wdr2H1oM8kDq"
      },
      "outputs": [],
      "source": [
        "df1=pd.read_csv(\"/content/result_df.csv\")"
      ]
    },
    {
      "cell_type": "markdown",
      "source": [
        "11) This script evaluates ROUGE scores for generated answers in a DataFrame.\n",
        "\n",
        " Reads a DataFrame containing 'answer' and 'Generated answer' columns from \"/content/result_df.csv\".\n",
        " Initializes a Rouge object for calculating text similarity scores.\n",
        " Iterates through each row, extracts answer texts, calculates ROUGE scores, and stores them in a list.\n",
        " Creates a new DataFrame for the calculated scores.\n",
        " Concatenates the original DataFrame with the ROUGE score DataFrame.\n",
        " Prints the final DataFrame containing both original data and ROUGE scores.\n",
        "\"\"\""
      ],
      "metadata": {
        "id": "jO70vdB0zhS1"
      }
    },
    {
      "cell_type": "code",
      "execution_count": null,
      "metadata": {
        "colab": {
          "base_uri": "https://localhost:8080/"
        },
        "id": "eAmscDOK7-iv",
        "outputId": "1795b0ee-3fe9-4e83-a9e5-f3bcab0543df"
      },
      "outputs": [
        {
          "output_type": "stream",
          "name": "stdout",
          "text": [
            "                                            question  \\\n",
            "0         What are the countries managed_by pmo_us ?   \n",
            "1                  What is vendor for brand reveal ?   \n",
            "2    What are the shipment modes managed by pmo_us ?   \n",
            "3             What is the shipment mode for id 2157?   \n",
            "4  when is the purchase order sent vendor date to...   \n",
            "5  when is the scheduled delivery date and delive...   \n",
            "6     what is the item description for brand reveal?   \n",
            "7  What is the item description and for brand rev...   \n",
            "8  When is the purchase order sent to vendor date...   \n",
            "9  What is the scheduled delivery date , delivere...   \n",
            "\n",
            "                                              answer  \\\n",
            "0          Côte d'Ivoire, Vietnam, Zimbabwe, Zambia,   \n",
            "1  RANBAXY Fine Chemicals LTD , MEDMIRA EAST AFRI...   \n",
            "2                    Air, Truck, Air Charter, Ocean.   \n",
            "3                                              Truck   \n",
            "4                                  Date Not Captured   \n",
            "5                             08-01-2007, 08-01-2007   \n",
            "6  HIV, Reveal G3 Rapid HIV-1 Antibody Test, 30 T...   \n",
            "7  HIV, Reveal G3 Rapid HIV-1 Antibody Test, 30 T...   \n",
            "8  Date Not Captured,\\nDate Not Captured,\\n1/18/2...   \n",
            "9  2-Jun-06 , 2-Jun-06 ,2-Jun-06\\n8-Aug-06, 8-Aug...   \n",
            "\n",
            "                                    Generated answer  \\\n",
            "0  The countries managed by PMO - US include Côte...   \n",
            "1  The vendor for the brand Reveal is RANBAXY Fin...   \n",
            "2  The shipment modes managed by PMO - US include...   \n",
            "3            The shipment mode for id 2157 is Truck.   \n",
            "4  The purchase order sent to vendor date for ID ...   \n",
            "5  The scheduled delivery date and delivery recor...   \n",
            "6  The item description for brand Reveal is the R...   \n",
            "7  The item description for the Reveal brand is t...   \n",
            "8  The purchase order sent to the vendor date for...   \n",
            "9  The scheduled delivery date, delivered to clie...   \n",
            "\n",
            "                                             rouge-1  \\\n",
            "0  {'r': 1.0, 'p': 0.3333333333333333, 'f': 0.499...   \n",
            "1  {'r': 0.875, 'p': 0.4666666666666667, 'f': 0.6...   \n",
            "2  {'r': 1.0, 'p': 0.3333333333333333, 'f': 0.499...   \n",
            "3    {'r': 1.0, 'p': 0.125, 'f': 0.2222222202469136}   \n",
            "4                     {'r': 0.0, 'p': 0.0, 'f': 0.0}   \n",
            "5                     {'r': 0.0, 'p': 0.0, 'f': 0.0}   \n",
            "6  {'r': 0.7777777777777778, 'p': 0.3333333333333...   \n",
            "7    {'r': 0.8, 'p': 0.32, 'f': 0.45714285306122454}   \n",
            "8  {'r': 0.25, 'p': 0.041666666666666664, 'f': 0....   \n",
            "9  {'r': 0.3333333333333333, 'p': 0.0666666666666...   \n",
            "\n",
            "                                             rouge-2  \\\n",
            "0  {'r': 1.0, 'p': 0.2857142857142857, 'f': 0.444...   \n",
            "1     {'r': 0.75, 'p': 0.4, 'f': 0.5217391258979208}   \n",
            "2  {'r': 0.75, 'p': 0.21428571428571427, 'f': 0.3...   \n",
            "3                     {'r': 0.0, 'p': 0.0, 'f': 0.0}   \n",
            "4                     {'r': 0.0, 'p': 0.0, 'f': 0.0}   \n",
            "5                     {'r': 0.0, 'p': 0.0, 'f': 0.0}   \n",
            "6  {'r': 0.625, 'p': 0.23809523809523808, 'f': 0....   \n",
            "7  {'r': 0.5555555555555556, 'p': 0.1612903225806...   \n",
            "8                     {'r': 0.0, 'p': 0.0, 'f': 0.0}   \n",
            "9                     {'r': 0.0, 'p': 0.0, 'f': 0.0}   \n",
            "\n",
            "                                             rouge-l  \\\n",
            "0  {'r': 1.0, 'p': 0.3333333333333333, 'f': 0.499...   \n",
            "1  {'r': 0.875, 'p': 0.4666666666666667, 'f': 0.6...   \n",
            "2  {'r': 1.0, 'p': 0.3333333333333333, 'f': 0.499...   \n",
            "3    {'r': 1.0, 'p': 0.125, 'f': 0.2222222202469136}   \n",
            "4                     {'r': 0.0, 'p': 0.0, 'f': 0.0}   \n",
            "5                     {'r': 0.0, 'p': 0.0, 'f': 0.0}   \n",
            "6  {'r': 0.7777777777777778, 'p': 0.3333333333333...   \n",
            "7    {'r': 0.8, 'p': 0.32, 'f': 0.45714285306122454}   \n",
            "8  {'r': 0.25, 'p': 0.041666666666666664, 'f': 0....   \n",
            "9  {'r': 0.3333333333333333, 'p': 0.0666666666666...   \n",
            "\n",
            "                                           rouge-1.1  \\\n",
            "0  {'r': 1.0, 'p': 0.3333333333333333, 'f': 0.499...   \n",
            "1  {'r': 0.875, 'p': 0.4666666666666667, 'f': 0.6...   \n",
            "2  {'r': 1.0, 'p': 0.3333333333333333, 'f': 0.499...   \n",
            "3    {'r': 1.0, 'p': 0.125, 'f': 0.2222222202469136}   \n",
            "4                     {'r': 0.0, 'p': 0.0, 'f': 0.0}   \n",
            "5                     {'r': 0.0, 'p': 0.0, 'f': 0.0}   \n",
            "6  {'r': 0.7777777777777778, 'p': 0.3333333333333...   \n",
            "7    {'r': 0.8, 'p': 0.32, 'f': 0.45714285306122454}   \n",
            "8  {'r': 0.25, 'p': 0.041666666666666664, 'f': 0....   \n",
            "9  {'r': 0.3333333333333333, 'p': 0.0666666666666...   \n",
            "\n",
            "                                           rouge-2.1  \\\n",
            "0  {'r': 1.0, 'p': 0.2857142857142857, 'f': 0.444...   \n",
            "1     {'r': 0.75, 'p': 0.4, 'f': 0.5217391258979208}   \n",
            "2  {'r': 0.75, 'p': 0.21428571428571427, 'f': 0.3...   \n",
            "3                     {'r': 0.0, 'p': 0.0, 'f': 0.0}   \n",
            "4                     {'r': 0.0, 'p': 0.0, 'f': 0.0}   \n",
            "5                     {'r': 0.0, 'p': 0.0, 'f': 0.0}   \n",
            "6  {'r': 0.625, 'p': 0.23809523809523808, 'f': 0....   \n",
            "7  {'r': 0.5555555555555556, 'p': 0.1612903225806...   \n",
            "8                     {'r': 0.0, 'p': 0.0, 'f': 0.0}   \n",
            "9                     {'r': 0.0, 'p': 0.0, 'f': 0.0}   \n",
            "\n",
            "                                           rouge-l.1  \\\n",
            "0  {'r': 1.0, 'p': 0.3333333333333333, 'f': 0.499...   \n",
            "1  {'r': 0.875, 'p': 0.4666666666666667, 'f': 0.6...   \n",
            "2  {'r': 1.0, 'p': 0.3333333333333333, 'f': 0.499...   \n",
            "3    {'r': 1.0, 'p': 0.125, 'f': 0.2222222202469136}   \n",
            "4                     {'r': 0.0, 'p': 0.0, 'f': 0.0}   \n",
            "5                     {'r': 0.0, 'p': 0.0, 'f': 0.0}   \n",
            "6  {'r': 0.7777777777777778, 'p': 0.3333333333333...   \n",
            "7    {'r': 0.8, 'p': 0.32, 'f': 0.45714285306122454}   \n",
            "8  {'r': 0.25, 'p': 0.041666666666666664, 'f': 0....   \n",
            "9  {'r': 0.3333333333333333, 'p': 0.0666666666666...   \n",
            "\n",
            "                                           rouge-1.2  \\\n",
            "0  {'r': 1.0, 'p': 0.3333333333333333, 'f': 0.499...   \n",
            "1  {'r': 0.875, 'p': 0.4666666666666667, 'f': 0.6...   \n",
            "2  {'r': 1.0, 'p': 0.3333333333333333, 'f': 0.499...   \n",
            "3    {'r': 1.0, 'p': 0.125, 'f': 0.2222222202469136}   \n",
            "4                     {'r': 0.0, 'p': 0.0, 'f': 0.0}   \n",
            "5                     {'r': 0.0, 'p': 0.0, 'f': 0.0}   \n",
            "6  {'r': 0.7777777777777778, 'p': 0.3333333333333...   \n",
            "7    {'r': 0.8, 'p': 0.32, 'f': 0.45714285306122454}   \n",
            "8  {'r': 0.25, 'p': 0.041666666666666664, 'f': 0....   \n",
            "9  {'r': 0.3333333333333333, 'p': 0.0666666666666...   \n",
            "\n",
            "                                           rouge-2.2  \\\n",
            "0  {'r': 1.0, 'p': 0.2857142857142857, 'f': 0.444...   \n",
            "1     {'r': 0.75, 'p': 0.4, 'f': 0.5217391258979208}   \n",
            "2  {'r': 0.75, 'p': 0.21428571428571427, 'f': 0.3...   \n",
            "3                     {'r': 0.0, 'p': 0.0, 'f': 0.0}   \n",
            "4                     {'r': 0.0, 'p': 0.0, 'f': 0.0}   \n",
            "5                     {'r': 0.0, 'p': 0.0, 'f': 0.0}   \n",
            "6  {'r': 0.625, 'p': 0.23809523809523808, 'f': 0....   \n",
            "7  {'r': 0.5555555555555556, 'p': 0.1612903225806...   \n",
            "8                     {'r': 0.0, 'p': 0.0, 'f': 0.0}   \n",
            "9                     {'r': 0.0, 'p': 0.0, 'f': 0.0}   \n",
            "\n",
            "                                           rouge-l.2  \\\n",
            "0  {'r': 1.0, 'p': 0.3333333333333333, 'f': 0.499...   \n",
            "1  {'r': 0.875, 'p': 0.4666666666666667, 'f': 0.6...   \n",
            "2  {'r': 1.0, 'p': 0.3333333333333333, 'f': 0.499...   \n",
            "3    {'r': 1.0, 'p': 0.125, 'f': 0.2222222202469136}   \n",
            "4                     {'r': 0.0, 'p': 0.0, 'f': 0.0}   \n",
            "5                     {'r': 0.0, 'p': 0.0, 'f': 0.0}   \n",
            "6  {'r': 0.7777777777777778, 'p': 0.3333333333333...   \n",
            "7    {'r': 0.8, 'p': 0.32, 'f': 0.45714285306122454}   \n",
            "8  {'r': 0.25, 'p': 0.041666666666666664, 'f': 0....   \n",
            "9  {'r': 0.3333333333333333, 'p': 0.0666666666666...   \n",
            "\n",
            "                                             rouge-1  \\\n",
            "0  {'r': 1.0, 'p': 0.3333333333333333, 'f': 0.499...   \n",
            "1  {'r': 0.875, 'p': 0.4666666666666667, 'f': 0.6...   \n",
            "2  {'r': 1.0, 'p': 0.3333333333333333, 'f': 0.499...   \n",
            "3    {'r': 1.0, 'p': 0.125, 'f': 0.2222222202469136}   \n",
            "4                     {'r': 0.0, 'p': 0.0, 'f': 0.0}   \n",
            "5                     {'r': 0.0, 'p': 0.0, 'f': 0.0}   \n",
            "6  {'r': 0.7777777777777778, 'p': 0.3333333333333...   \n",
            "7    {'r': 0.8, 'p': 0.32, 'f': 0.45714285306122454}   \n",
            "8  {'r': 0.25, 'p': 0.041666666666666664, 'f': 0....   \n",
            "9  {'r': 0.3333333333333333, 'p': 0.0666666666666...   \n",
            "\n",
            "                                             rouge-2  \\\n",
            "0  {'r': 1.0, 'p': 0.2857142857142857, 'f': 0.444...   \n",
            "1     {'r': 0.75, 'p': 0.4, 'f': 0.5217391258979208}   \n",
            "2  {'r': 0.75, 'p': 0.21428571428571427, 'f': 0.3...   \n",
            "3                     {'r': 0.0, 'p': 0.0, 'f': 0.0}   \n",
            "4                     {'r': 0.0, 'p': 0.0, 'f': 0.0}   \n",
            "5                     {'r': 0.0, 'p': 0.0, 'f': 0.0}   \n",
            "6  {'r': 0.625, 'p': 0.23809523809523808, 'f': 0....   \n",
            "7  {'r': 0.5555555555555556, 'p': 0.1612903225806...   \n",
            "8                     {'r': 0.0, 'p': 0.0, 'f': 0.0}   \n",
            "9                     {'r': 0.0, 'p': 0.0, 'f': 0.0}   \n",
            "\n",
            "                                             rouge-l  \n",
            "0  {'r': 1.0, 'p': 0.3333333333333333, 'f': 0.499...  \n",
            "1  {'r': 0.875, 'p': 0.4666666666666667, 'f': 0.6...  \n",
            "2  {'r': 1.0, 'p': 0.3333333333333333, 'f': 0.499...  \n",
            "3    {'r': 1.0, 'p': 0.125, 'f': 0.2222222202469136}  \n",
            "4                     {'r': 0.0, 'p': 0.0, 'f': 0.0}  \n",
            "5                     {'r': 0.0, 'p': 0.0, 'f': 0.0}  \n",
            "6  {'r': 0.7777777777777778, 'p': 0.3333333333333...  \n",
            "7    {'r': 0.8, 'p': 0.32, 'f': 0.45714285306122454}  \n",
            "8  {'r': 0.25, 'p': 0.041666666666666664, 'f': 0....  \n",
            "9  {'r': 0.3333333333333333, 'p': 0.0666666666666...  \n"
          ]
        }
      ],
      "source": [
        "import pandas as pd\n",
        "from rouge import Rouge\n",
        "\n",
        "df1=pd.read_csv(\"/content/result_df.csv\")\n",
        "\n",
        "rouge = Rouge()\n",
        "\n",
        "scores_list = []\n",
        "for index, row in df1.iterrows():\n",
        "    actual_answer = row['answer']\n",
        "    generated_answer = row['Generated answer']\n",
        "\n",
        "    scores = rouge.get_scores(generated_answer, actual_answer)\n",
        "\n",
        "    scores_list.append(scores[0])\n",
        "\n",
        "rouge_df = pd.DataFrame(scores_list)\n",
        "\n",
        "result_df = pd.concat([df1, rouge_df], axis=1)\n",
        "\n",
        "print(result_df)\n"
      ]
    },
    {
      "cell_type": "code",
      "execution_count": null,
      "metadata": {
        "colab": {
          "background_save": true
        },
        "id": "FlZczHLA805p",
        "outputId": "043d7f0c-d99e-4b09-cbfd-27adedf15e6f"
      },
      "outputs": [
        {
          "data": {
            "application/vnd.google.colaboratory.intrinsic+json": {
              "summary": "{\n  \"name\": \"result_df\",\n  \"rows\": 10,\n  \"fields\": [\n    {\n      \"column\": \"question\",\n      \"properties\": {\n        \"dtype\": \"string\",\n        \"num_unique_values\": 10,\n        \"samples\": [\n          \"When is the purchase order sent to vendor date for brand reveal ?\",\n          \"What is vendor for brand reveal ?\",\n          \"when is the scheduled delivery date and delivery recorded date for id 44 ?\"\n        ],\n        \"semantic_type\": \"\",\n        \"description\": \"\"\n      }\n    },\n    {\n      \"column\": \"answer\",\n      \"properties\": {\n        \"dtype\": \"string\",\n        \"num_unique_values\": 10,\n        \"samples\": [\n          \"Date Not Captured,\\nDate Not Captured,\\n1/18/2012.\",\n          \"RANBAXY Fine Chemicals LTD , MEDMIRA EAST AFRICA LTD.\",\n          \"08-01-2007, 08-01-2007\"\n        ],\n        \"semantic_type\": \"\",\n        \"description\": \"\"\n      }\n    },\n    {\n      \"column\": \"Generated answer\",\n      \"properties\": {\n        \"dtype\": \"string\",\n        \"num_unique_values\": 10,\n        \"samples\": [\n          \"The purchase order sent to the vendor date for the brand reveal was not captured in the data for most entries, but for one entry it was on 1/18/2012.\",\n          \"The vendor for the brand Reveal is RANBAXY Fine Chemicals LTD. and MEDMIRA EAST AFRICA LTD.\",\n          \"The scheduled delivery date and delivery recorded date for ID 44 are both on January 8th, 2007.\"\n        ],\n        \"semantic_type\": \"\",\n        \"description\": \"\"\n      }\n    },\n    {\n      \"column\": \"rouge-1\",\n      \"properties\": {\n        \"dtype\": \"string\",\n        \"num_unique_values\": 8,\n        \"samples\": [\n          \"{'r': 0.875, 'p': 0.4666666666666667, 'f': 0.6086956476370511}\",\n          \"{'r': 0.8, 'p': 0.32, 'f': 0.45714285306122454}\",\n          \"{'r': 1.0, 'p': 0.3333333333333333, 'f': 0.4999999962500001}\"\n        ],\n        \"semantic_type\": \"\",\n        \"description\": \"\"\n      }\n    },\n    {\n      \"column\": \"rouge-2\",\n      \"properties\": {\n        \"dtype\": \"string\",\n        \"num_unique_values\": 6,\n        \"samples\": [\n          \"{'r': 1.0, 'p': 0.2857142857142857, 'f': 0.4444444409876544}\",\n          \"{'r': 0.75, 'p': 0.4, 'f': 0.5217391258979208}\",\n          \"{'r': 0.5555555555555556, 'p': 0.16129032258064516, 'f': 0.24999999651250004}\"\n        ],\n        \"semantic_type\": \"\",\n        \"description\": \"\"\n      }\n    },\n    {\n      \"column\": \"rouge-l\",\n      \"properties\": {\n        \"dtype\": \"string\",\n        \"num_unique_values\": 8,\n        \"samples\": [\n          \"{'r': 0.875, 'p': 0.4666666666666667, 'f': 0.6086956476370511}\",\n          \"{'r': 0.8, 'p': 0.32, 'f': 0.45714285306122454}\",\n          \"{'r': 1.0, 'p': 0.3333333333333333, 'f': 0.4999999962500001}\"\n        ],\n        \"semantic_type\": \"\",\n        \"description\": \"\"\n      }\n    },\n    {\n      \"column\": \"rouge-1.1\",\n      \"properties\": {\n        \"dtype\": \"string\",\n        \"num_unique_values\": 8,\n        \"samples\": [\n          \"{'r': 0.875, 'p': 0.4666666666666667, 'f': 0.6086956476370511}\",\n          \"{'r': 0.8, 'p': 0.32, 'f': 0.45714285306122454}\",\n          \"{'r': 1.0, 'p': 0.3333333333333333, 'f': 0.4999999962500001}\"\n        ],\n        \"semantic_type\": \"\",\n        \"description\": \"\"\n      }\n    },\n    {\n      \"column\": \"rouge-2.1\",\n      \"properties\": {\n        \"dtype\": \"string\",\n        \"num_unique_values\": 6,\n        \"samples\": [\n          \"{'r': 1.0, 'p': 0.2857142857142857, 'f': 0.4444444409876544}\",\n          \"{'r': 0.75, 'p': 0.4, 'f': 0.5217391258979208}\",\n          \"{'r': 0.5555555555555556, 'p': 0.16129032258064516, 'f': 0.24999999651250004}\"\n        ],\n        \"semantic_type\": \"\",\n        \"description\": \"\"\n      }\n    },\n    {\n      \"column\": \"rouge-l.1\",\n      \"properties\": {\n        \"dtype\": \"string\",\n        \"num_unique_values\": 8,\n        \"samples\": [\n          \"{'r': 0.875, 'p': 0.4666666666666667, 'f': 0.6086956476370511}\",\n          \"{'r': 0.8, 'p': 0.32, 'f': 0.45714285306122454}\",\n          \"{'r': 1.0, 'p': 0.3333333333333333, 'f': 0.4999999962500001}\"\n        ],\n        \"semantic_type\": \"\",\n        \"description\": \"\"\n      }\n    },\n    {\n      \"column\": \"rouge-1\",\n      \"properties\": {\n        \"dtype\": \"object\",\n        \"semantic_type\": \"\",\n        \"description\": \"\"\n      }\n    },\n    {\n      \"column\": \"rouge-2\",\n      \"properties\": {\n        \"dtype\": \"object\",\n        \"semantic_type\": \"\",\n        \"description\": \"\"\n      }\n    },\n    {\n      \"column\": \"rouge-l\",\n      \"properties\": {\n        \"dtype\": \"object\",\n        \"semantic_type\": \"\",\n        \"description\": \"\"\n      }\n    }\n  ]\n}",
              "type": "dataframe",
              "variable_name": "result_df"
            },
            "text/html": [
              "\n",
              "  <div id=\"df-6ac16798-34d5-48c5-8a7c-d5e4e876a69a\" class=\"colab-df-container\">\n",
              "    <div>\n",
              "<style scoped>\n",
              "    .dataframe tbody tr th:only-of-type {\n",
              "        vertical-align: middle;\n",
              "    }\n",
              "\n",
              "    .dataframe tbody tr th {\n",
              "        vertical-align: top;\n",
              "    }\n",
              "\n",
              "    .dataframe thead th {\n",
              "        text-align: right;\n",
              "    }\n",
              "</style>\n",
              "<table border=\"1\" class=\"dataframe\">\n",
              "  <thead>\n",
              "    <tr style=\"text-align: right;\">\n",
              "      <th></th>\n",
              "      <th>question</th>\n",
              "      <th>answer</th>\n",
              "      <th>Generated answer</th>\n",
              "      <th>rouge-1</th>\n",
              "      <th>rouge-2</th>\n",
              "      <th>rouge-l</th>\n",
              "      <th>rouge-1.1</th>\n",
              "      <th>rouge-2.1</th>\n",
              "      <th>rouge-l.1</th>\n",
              "      <th>rouge-1</th>\n",
              "      <th>rouge-2</th>\n",
              "      <th>rouge-l</th>\n",
              "    </tr>\n",
              "  </thead>\n",
              "  <tbody>\n",
              "    <tr>\n",
              "      <th>0</th>\n",
              "      <td>What are the countries managed_by pmo_us ?</td>\n",
              "      <td>Côte d'Ivoire, Vietnam, Zimbabwe, Zambia,</td>\n",
              "      <td>The countries managed by PMO - US include Côte...</td>\n",
              "      <td>{'r': 1.0, 'p': 0.3333333333333333, 'f': 0.499...</td>\n",
              "      <td>{'r': 1.0, 'p': 0.2857142857142857, 'f': 0.444...</td>\n",
              "      <td>{'r': 1.0, 'p': 0.3333333333333333, 'f': 0.499...</td>\n",
              "      <td>{'r': 1.0, 'p': 0.3333333333333333, 'f': 0.499...</td>\n",
              "      <td>{'r': 1.0, 'p': 0.2857142857142857, 'f': 0.444...</td>\n",
              "      <td>{'r': 1.0, 'p': 0.3333333333333333, 'f': 0.499...</td>\n",
              "      <td>{'r': 1.0, 'p': 0.3333333333333333, 'f': 0.499...</td>\n",
              "      <td>{'r': 1.0, 'p': 0.2857142857142857, 'f': 0.444...</td>\n",
              "      <td>{'r': 1.0, 'p': 0.3333333333333333, 'f': 0.499...</td>\n",
              "    </tr>\n",
              "    <tr>\n",
              "      <th>1</th>\n",
              "      <td>What is vendor for brand reveal ?</td>\n",
              "      <td>RANBAXY Fine Chemicals LTD , MEDMIRA EAST AFRI...</td>\n",
              "      <td>The vendor for the brand Reveal is RANBAXY Fin...</td>\n",
              "      <td>{'r': 0.875, 'p': 0.4666666666666667, 'f': 0.6...</td>\n",
              "      <td>{'r': 0.75, 'p': 0.4, 'f': 0.5217391258979208}</td>\n",
              "      <td>{'r': 0.875, 'p': 0.4666666666666667, 'f': 0.6...</td>\n",
              "      <td>{'r': 0.875, 'p': 0.4666666666666667, 'f': 0.6...</td>\n",
              "      <td>{'r': 0.75, 'p': 0.4, 'f': 0.5217391258979208}</td>\n",
              "      <td>{'r': 0.875, 'p': 0.4666666666666667, 'f': 0.6...</td>\n",
              "      <td>{'r': 0.875, 'p': 0.4666666666666667, 'f': 0.6...</td>\n",
              "      <td>{'r': 0.75, 'p': 0.4, 'f': 0.5217391258979208}</td>\n",
              "      <td>{'r': 0.875, 'p': 0.4666666666666667, 'f': 0.6...</td>\n",
              "    </tr>\n",
              "    <tr>\n",
              "      <th>2</th>\n",
              "      <td>What are the shipment modes managed by pmo_us ?</td>\n",
              "      <td>Air, Truck, Air Charter, Ocean.</td>\n",
              "      <td>The shipment modes managed by PMO - US include...</td>\n",
              "      <td>{'r': 1.0, 'p': 0.3333333333333333, 'f': 0.499...</td>\n",
              "      <td>{'r': 0.75, 'p': 0.21428571428571427, 'f': 0.3...</td>\n",
              "      <td>{'r': 1.0, 'p': 0.3333333333333333, 'f': 0.499...</td>\n",
              "      <td>{'r': 1.0, 'p': 0.3333333333333333, 'f': 0.499...</td>\n",
              "      <td>{'r': 0.75, 'p': 0.21428571428571427, 'f': 0.3...</td>\n",
              "      <td>{'r': 1.0, 'p': 0.3333333333333333, 'f': 0.499...</td>\n",
              "      <td>{'r': 1.0, 'p': 0.3333333333333333, 'f': 0.499...</td>\n",
              "      <td>{'r': 0.75, 'p': 0.21428571428571427, 'f': 0.3...</td>\n",
              "      <td>{'r': 1.0, 'p': 0.3333333333333333, 'f': 0.499...</td>\n",
              "    </tr>\n",
              "    <tr>\n",
              "      <th>3</th>\n",
              "      <td>What is the shipment mode for id 2157?</td>\n",
              "      <td>Truck</td>\n",
              "      <td>The shipment mode for id 2157 is Truck.</td>\n",
              "      <td>{'r': 1.0, 'p': 0.125, 'f': 0.2222222202469136}</td>\n",
              "      <td>{'r': 0.0, 'p': 0.0, 'f': 0.0}</td>\n",
              "      <td>{'r': 1.0, 'p': 0.125, 'f': 0.2222222202469136}</td>\n",
              "      <td>{'r': 1.0, 'p': 0.125, 'f': 0.2222222202469136}</td>\n",
              "      <td>{'r': 0.0, 'p': 0.0, 'f': 0.0}</td>\n",
              "      <td>{'r': 1.0, 'p': 0.125, 'f': 0.2222222202469136}</td>\n",
              "      <td>{'r': 1.0, 'p': 0.125, 'f': 0.2222222202469136}</td>\n",
              "      <td>{'r': 0.0, 'p': 0.0, 'f': 0.0}</td>\n",
              "      <td>{'r': 1.0, 'p': 0.125, 'f': 0.2222222202469136}</td>\n",
              "    </tr>\n",
              "    <tr>\n",
              "      <th>4</th>\n",
              "      <td>when is the purchase order sent vendor date to...</td>\n",
              "      <td>Date Not Captured</td>\n",
              "      <td>The purchase order sent to vendor date for ID ...</td>\n",
              "      <td>{'r': 0.0, 'p': 0.0, 'f': 0.0}</td>\n",
              "      <td>{'r': 0.0, 'p': 0.0, 'f': 0.0}</td>\n",
              "      <td>{'r': 0.0, 'p': 0.0, 'f': 0.0}</td>\n",
              "      <td>{'r': 0.0, 'p': 0.0, 'f': 0.0}</td>\n",
              "      <td>{'r': 0.0, 'p': 0.0, 'f': 0.0}</td>\n",
              "      <td>{'r': 0.0, 'p': 0.0, 'f': 0.0}</td>\n",
              "      <td>{'r': 0.0, 'p': 0.0, 'f': 0.0}</td>\n",
              "      <td>{'r': 0.0, 'p': 0.0, 'f': 0.0}</td>\n",
              "      <td>{'r': 0.0, 'p': 0.0, 'f': 0.0}</td>\n",
              "    </tr>\n",
              "  </tbody>\n",
              "</table>\n",
              "</div>\n",
              "    <div class=\"colab-df-buttons\">\n",
              "\n",
              "  <div class=\"colab-df-container\">\n",
              "    <button class=\"colab-df-convert\" onclick=\"convertToInteractive('df-6ac16798-34d5-48c5-8a7c-d5e4e876a69a')\"\n",
              "            title=\"Convert this dataframe to an interactive table.\"\n",
              "            style=\"display:none;\">\n",
              "\n",
              "  <svg xmlns=\"http://www.w3.org/2000/svg\" height=\"24px\" viewBox=\"0 -960 960 960\">\n",
              "    <path d=\"M120-120v-720h720v720H120Zm60-500h600v-160H180v160Zm220 220h160v-160H400v160Zm0 220h160v-160H400v160ZM180-400h160v-160H180v160Zm440 0h160v-160H620v160ZM180-180h160v-160H180v160Zm440 0h160v-160H620v160Z\"/>\n",
              "  </svg>\n",
              "    </button>\n",
              "\n",
              "  <style>\n",
              "    .colab-df-container {\n",
              "      display:flex;\n",
              "      gap: 12px;\n",
              "    }\n",
              "\n",
              "    .colab-df-convert {\n",
              "      background-color: #E8F0FE;\n",
              "      border: none;\n",
              "      border-radius: 50%;\n",
              "      cursor: pointer;\n",
              "      display: none;\n",
              "      fill: #1967D2;\n",
              "      height: 32px;\n",
              "      padding: 0 0 0 0;\n",
              "      width: 32px;\n",
              "    }\n",
              "\n",
              "    .colab-df-convert:hover {\n",
              "      background-color: #E2EBFA;\n",
              "      box-shadow: 0px 1px 2px rgba(60, 64, 67, 0.3), 0px 1px 3px 1px rgba(60, 64, 67, 0.15);\n",
              "      fill: #174EA6;\n",
              "    }\n",
              "\n",
              "    .colab-df-buttons div {\n",
              "      margin-bottom: 4px;\n",
              "    }\n",
              "\n",
              "    [theme=dark] .colab-df-convert {\n",
              "      background-color: #3B4455;\n",
              "      fill: #D2E3FC;\n",
              "    }\n",
              "\n",
              "    [theme=dark] .colab-df-convert:hover {\n",
              "      background-color: #434B5C;\n",
              "      box-shadow: 0px 1px 3px 1px rgba(0, 0, 0, 0.15);\n",
              "      filter: drop-shadow(0px 1px 2px rgba(0, 0, 0, 0.3));\n",
              "      fill: #FFFFFF;\n",
              "    }\n",
              "  </style>\n",
              "\n",
              "    <script>\n",
              "      const buttonEl =\n",
              "        document.querySelector('#df-6ac16798-34d5-48c5-8a7c-d5e4e876a69a button.colab-df-convert');\n",
              "      buttonEl.style.display =\n",
              "        google.colab.kernel.accessAllowed ? 'block' : 'none';\n",
              "\n",
              "      async function convertToInteractive(key) {\n",
              "        const element = document.querySelector('#df-6ac16798-34d5-48c5-8a7c-d5e4e876a69a');\n",
              "        const dataTable =\n",
              "          await google.colab.kernel.invokeFunction('convertToInteractive',\n",
              "                                                    [key], {});\n",
              "        if (!dataTable) return;\n",
              "\n",
              "        const docLinkHtml = 'Like what you see? Visit the ' +\n",
              "          '<a target=\"_blank\" href=https://colab.research.google.com/notebooks/data_table.ipynb>data table notebook</a>'\n",
              "          + ' to learn more about interactive tables.';\n",
              "        element.innerHTML = '';\n",
              "        dataTable['output_type'] = 'display_data';\n",
              "        await google.colab.output.renderOutput(dataTable, element);\n",
              "        const docLink = document.createElement('div');\n",
              "        docLink.innerHTML = docLinkHtml;\n",
              "        element.appendChild(docLink);\n",
              "      }\n",
              "    </script>\n",
              "  </div>\n",
              "\n",
              "\n",
              "<div id=\"df-ce3b320e-1f61-4950-97d8-30c1a491c888\">\n",
              "  <button class=\"colab-df-quickchart\" onclick=\"quickchart('df-ce3b320e-1f61-4950-97d8-30c1a491c888')\"\n",
              "            title=\"Suggest charts\"\n",
              "            style=\"display:none;\">\n",
              "\n",
              "<svg xmlns=\"http://www.w3.org/2000/svg\" height=\"24px\"viewBox=\"0 0 24 24\"\n",
              "     width=\"24px\">\n",
              "    <g>\n",
              "        <path d=\"M19 3H5c-1.1 0-2 .9-2 2v14c0 1.1.9 2 2 2h14c1.1 0 2-.9 2-2V5c0-1.1-.9-2-2-2zM9 17H7v-7h2v7zm4 0h-2V7h2v10zm4 0h-2v-4h2v4z\"/>\n",
              "    </g>\n",
              "</svg>\n",
              "  </button>\n",
              "\n",
              "<style>\n",
              "  .colab-df-quickchart {\n",
              "      --bg-color: #E8F0FE;\n",
              "      --fill-color: #1967D2;\n",
              "      --hover-bg-color: #E2EBFA;\n",
              "      --hover-fill-color: #174EA6;\n",
              "      --disabled-fill-color: #AAA;\n",
              "      --disabled-bg-color: #DDD;\n",
              "  }\n",
              "\n",
              "  [theme=dark] .colab-df-quickchart {\n",
              "      --bg-color: #3B4455;\n",
              "      --fill-color: #D2E3FC;\n",
              "      --hover-bg-color: #434B5C;\n",
              "      --hover-fill-color: #FFFFFF;\n",
              "      --disabled-bg-color: #3B4455;\n",
              "      --disabled-fill-color: #666;\n",
              "  }\n",
              "\n",
              "  .colab-df-quickchart {\n",
              "    background-color: var(--bg-color);\n",
              "    border: none;\n",
              "    border-radius: 50%;\n",
              "    cursor: pointer;\n",
              "    display: none;\n",
              "    fill: var(--fill-color);\n",
              "    height: 32px;\n",
              "    padding: 0;\n",
              "    width: 32px;\n",
              "  }\n",
              "\n",
              "  .colab-df-quickchart:hover {\n",
              "    background-color: var(--hover-bg-color);\n",
              "    box-shadow: 0 1px 2px rgba(60, 64, 67, 0.3), 0 1px 3px 1px rgba(60, 64, 67, 0.15);\n",
              "    fill: var(--button-hover-fill-color);\n",
              "  }\n",
              "\n",
              "  .colab-df-quickchart-complete:disabled,\n",
              "  .colab-df-quickchart-complete:disabled:hover {\n",
              "    background-color: var(--disabled-bg-color);\n",
              "    fill: var(--disabled-fill-color);\n",
              "    box-shadow: none;\n",
              "  }\n",
              "\n",
              "  .colab-df-spinner {\n",
              "    border: 2px solid var(--fill-color);\n",
              "    border-color: transparent;\n",
              "    border-bottom-color: var(--fill-color);\n",
              "    animation:\n",
              "      spin 1s steps(1) infinite;\n",
              "  }\n",
              "\n",
              "  @keyframes spin {\n",
              "    0% {\n",
              "      border-color: transparent;\n",
              "      border-bottom-color: var(--fill-color);\n",
              "      border-left-color: var(--fill-color);\n",
              "    }\n",
              "    20% {\n",
              "      border-color: transparent;\n",
              "      border-left-color: var(--fill-color);\n",
              "      border-top-color: var(--fill-color);\n",
              "    }\n",
              "    30% {\n",
              "      border-color: transparent;\n",
              "      border-left-color: var(--fill-color);\n",
              "      border-top-color: var(--fill-color);\n",
              "      border-right-color: var(--fill-color);\n",
              "    }\n",
              "    40% {\n",
              "      border-color: transparent;\n",
              "      border-right-color: var(--fill-color);\n",
              "      border-top-color: var(--fill-color);\n",
              "    }\n",
              "    60% {\n",
              "      border-color: transparent;\n",
              "      border-right-color: var(--fill-color);\n",
              "    }\n",
              "    80% {\n",
              "      border-color: transparent;\n",
              "      border-right-color: var(--fill-color);\n",
              "      border-bottom-color: var(--fill-color);\n",
              "    }\n",
              "    90% {\n",
              "      border-color: transparent;\n",
              "      border-bottom-color: var(--fill-color);\n",
              "    }\n",
              "  }\n",
              "</style>\n",
              "\n",
              "  <script>\n",
              "    async function quickchart(key) {\n",
              "      const quickchartButtonEl =\n",
              "        document.querySelector('#' + key + ' button');\n",
              "      quickchartButtonEl.disabled = true;  // To prevent multiple clicks.\n",
              "      quickchartButtonEl.classList.add('colab-df-spinner');\n",
              "      try {\n",
              "        const charts = await google.colab.kernel.invokeFunction(\n",
              "            'suggestCharts', [key], {});\n",
              "      } catch (error) {\n",
              "        console.error('Error during call to suggestCharts:', error);\n",
              "      }\n",
              "      quickchartButtonEl.classList.remove('colab-df-spinner');\n",
              "      quickchartButtonEl.classList.add('colab-df-quickchart-complete');\n",
              "    }\n",
              "    (() => {\n",
              "      let quickchartButtonEl =\n",
              "        document.querySelector('#df-ce3b320e-1f61-4950-97d8-30c1a491c888 button');\n",
              "      quickchartButtonEl.style.display =\n",
              "        google.colab.kernel.accessAllowed ? 'block' : 'none';\n",
              "    })();\n",
              "  </script>\n",
              "</div>\n",
              "\n",
              "    </div>\n",
              "  </div>\n"
            ],
            "text/plain": [
              "                                            question  \\\n",
              "0         What are the countries managed_by pmo_us ?   \n",
              "1                  What is vendor for brand reveal ?   \n",
              "2    What are the shipment modes managed by pmo_us ?   \n",
              "3             What is the shipment mode for id 2157?   \n",
              "4  when is the purchase order sent vendor date to...   \n",
              "\n",
              "                                              answer  \\\n",
              "0          Côte d'Ivoire, Vietnam, Zimbabwe, Zambia,   \n",
              "1  RANBAXY Fine Chemicals LTD , MEDMIRA EAST AFRI...   \n",
              "2                    Air, Truck, Air Charter, Ocean.   \n",
              "3                                              Truck   \n",
              "4                                  Date Not Captured   \n",
              "\n",
              "                                    Generated answer  \\\n",
              "0  The countries managed by PMO - US include Côte...   \n",
              "1  The vendor for the brand Reveal is RANBAXY Fin...   \n",
              "2  The shipment modes managed by PMO - US include...   \n",
              "3            The shipment mode for id 2157 is Truck.   \n",
              "4  The purchase order sent to vendor date for ID ...   \n",
              "\n",
              "                                             rouge-1  \\\n",
              "0  {'r': 1.0, 'p': 0.3333333333333333, 'f': 0.499...   \n",
              "1  {'r': 0.875, 'p': 0.4666666666666667, 'f': 0.6...   \n",
              "2  {'r': 1.0, 'p': 0.3333333333333333, 'f': 0.499...   \n",
              "3    {'r': 1.0, 'p': 0.125, 'f': 0.2222222202469136}   \n",
              "4                     {'r': 0.0, 'p': 0.0, 'f': 0.0}   \n",
              "\n",
              "                                             rouge-2  \\\n",
              "0  {'r': 1.0, 'p': 0.2857142857142857, 'f': 0.444...   \n",
              "1     {'r': 0.75, 'p': 0.4, 'f': 0.5217391258979208}   \n",
              "2  {'r': 0.75, 'p': 0.21428571428571427, 'f': 0.3...   \n",
              "3                     {'r': 0.0, 'p': 0.0, 'f': 0.0}   \n",
              "4                     {'r': 0.0, 'p': 0.0, 'f': 0.0}   \n",
              "\n",
              "                                             rouge-l  \\\n",
              "0  {'r': 1.0, 'p': 0.3333333333333333, 'f': 0.499...   \n",
              "1  {'r': 0.875, 'p': 0.4666666666666667, 'f': 0.6...   \n",
              "2  {'r': 1.0, 'p': 0.3333333333333333, 'f': 0.499...   \n",
              "3    {'r': 1.0, 'p': 0.125, 'f': 0.2222222202469136}   \n",
              "4                     {'r': 0.0, 'p': 0.0, 'f': 0.0}   \n",
              "\n",
              "                                           rouge-1.1  \\\n",
              "0  {'r': 1.0, 'p': 0.3333333333333333, 'f': 0.499...   \n",
              "1  {'r': 0.875, 'p': 0.4666666666666667, 'f': 0.6...   \n",
              "2  {'r': 1.0, 'p': 0.3333333333333333, 'f': 0.499...   \n",
              "3    {'r': 1.0, 'p': 0.125, 'f': 0.2222222202469136}   \n",
              "4                     {'r': 0.0, 'p': 0.0, 'f': 0.0}   \n",
              "\n",
              "                                           rouge-2.1  \\\n",
              "0  {'r': 1.0, 'p': 0.2857142857142857, 'f': 0.444...   \n",
              "1     {'r': 0.75, 'p': 0.4, 'f': 0.5217391258979208}   \n",
              "2  {'r': 0.75, 'p': 0.21428571428571427, 'f': 0.3...   \n",
              "3                     {'r': 0.0, 'p': 0.0, 'f': 0.0}   \n",
              "4                     {'r': 0.0, 'p': 0.0, 'f': 0.0}   \n",
              "\n",
              "                                           rouge-l.1  \\\n",
              "0  {'r': 1.0, 'p': 0.3333333333333333, 'f': 0.499...   \n",
              "1  {'r': 0.875, 'p': 0.4666666666666667, 'f': 0.6...   \n",
              "2  {'r': 1.0, 'p': 0.3333333333333333, 'f': 0.499...   \n",
              "3    {'r': 1.0, 'p': 0.125, 'f': 0.2222222202469136}   \n",
              "4                     {'r': 0.0, 'p': 0.0, 'f': 0.0}   \n",
              "\n",
              "                                             rouge-1  \\\n",
              "0  {'r': 1.0, 'p': 0.3333333333333333, 'f': 0.499...   \n",
              "1  {'r': 0.875, 'p': 0.4666666666666667, 'f': 0.6...   \n",
              "2  {'r': 1.0, 'p': 0.3333333333333333, 'f': 0.499...   \n",
              "3    {'r': 1.0, 'p': 0.125, 'f': 0.2222222202469136}   \n",
              "4                     {'r': 0.0, 'p': 0.0, 'f': 0.0}   \n",
              "\n",
              "                                             rouge-2  \\\n",
              "0  {'r': 1.0, 'p': 0.2857142857142857, 'f': 0.444...   \n",
              "1     {'r': 0.75, 'p': 0.4, 'f': 0.5217391258979208}   \n",
              "2  {'r': 0.75, 'p': 0.21428571428571427, 'f': 0.3...   \n",
              "3                     {'r': 0.0, 'p': 0.0, 'f': 0.0}   \n",
              "4                     {'r': 0.0, 'p': 0.0, 'f': 0.0}   \n",
              "\n",
              "                                             rouge-l  \n",
              "0  {'r': 1.0, 'p': 0.3333333333333333, 'f': 0.499...  \n",
              "1  {'r': 0.875, 'p': 0.4666666666666667, 'f': 0.6...  \n",
              "2  {'r': 1.0, 'p': 0.3333333333333333, 'f': 0.499...  \n",
              "3    {'r': 1.0, 'p': 0.125, 'f': 0.2222222202469136}  \n",
              "4                     {'r': 0.0, 'p': 0.0, 'f': 0.0}  "
            ]
          },
          "execution_count": 82,
          "metadata": {},
          "output_type": "execute_result"
        }
      ],
      "source": [
        "result_df.head()"
      ]
    },
    {
      "cell_type": "markdown",
      "source": [
        "12) Saved the final DataFrame with ROUGE scores to 'result_df.csv', excluding the index column.\n"
      ],
      "metadata": {
        "id": "VH4O5RWmz11J"
      }
    },
    {
      "cell_type": "code",
      "execution_count": null,
      "metadata": {
        "colab": {
          "background_save": true
        },
        "id": "dTf1zYAb9Rqj"
      },
      "outputs": [],
      "source": [
        "result_df.to_csv('result_df.csv', index=False)"
      ]
    },
    {
      "cell_type": "code",
      "execution_count": null,
      "metadata": {
        "colab": {
          "background_save": true
        },
        "id": "szZV-UkMiBB5"
      },
      "outputs": [],
      "source": []
    }
  ],
  "metadata": {
    "colab": {
      "provenance": []
    },
    "kernelspec": {
      "display_name": "Python 3",
      "name": "python3"
    },
    "language_info": {
      "name": "python"
    }
  },
  "nbformat": 4,
  "nbformat_minor": 0
}